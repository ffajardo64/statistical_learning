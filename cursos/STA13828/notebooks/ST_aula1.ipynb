{
  "nbformat": 4,
  "nbformat_minor": 0,
  "metadata": {
    "colab": {
      "provenance": []
    },
    "kernelspec": {
      "name": "ir",
      "display_name": "R"
    },
    "language_info": {
      "name": "R"
    }
  },
  "cells": [
    {
      "cell_type": "markdown",
      "metadata": {
        "id": "Y1Ixknhz3hEX"
      },
      "source": [
        "# Aula de Séries Temporais I"
      ]
    },
    {
      "cell_type": "code",
      "metadata": {
        "id": "C_Yi9tQaEylT"
      },
      "source": [
        "# Alguns pacotes requeridos\n",
        "\n",
        "if(!require(itsmr)) install.packages(\"itsmr\", repos = \"http://cran.us.r-project.org\")\n",
        "if(!require(astsa)) install.packages(\"astsa\", repos = \"http://cran.us.r-project.org\")\n",
        "if(!require(fracdiff)) install.packages(\"fracdiff\", repos = \"http://cran.us.r-project.org\")\n",
        "#if(!require(TSA)) install.packages(\"TSA\", repos = \"http://cran.us.r-project.org\")\n",
        "#if(!require(forecast)) install.packages(\"forecast\", repos = \"http://cran.us.r-project.org\")\n",
        "#if(!require(lmtest)) install.packages(\"lmtest\", repos = \"http://cran.us.r-project.org\")\n",
        "#if(!require(car)) install.packages(\"car\", repos = \"http://cran.us.r-project.org\")"
      ],
      "execution_count": null,
      "outputs": []
    },
    {
      "cell_type": "markdown",
      "source": [
        "# Alguns links de interesse\n",
        "\n",
        "[CRAN Task View: Time Series Analysis](https://cran.r-project.org/web/views/TimeSeries.html)\n",
        "\n",
        "[R data sets](https://stat.ethz.ch/R-manual/R-devel/library/datasets/html/00Index.html)"
      ],
      "metadata": {
        "id": "h_gxuI21bZi4"
      }
    },
    {
      "cell_type": "code",
      "source": [
        "# Aumentar o tamanho das figuras no jupyter (opcional)\n",
        "options(repr.plot.width = 15, repr.plot.height = 15)"
      ],
      "metadata": {
        "id": "HiCiNXzhcW1C"
      },
      "execution_count": null,
      "outputs": []
    },
    {
      "cell_type": "code",
      "metadata": {
        "id": "8uoNclJQuzYO"
      },
      "source": [
        "plot(itsmr::wine, xlab='Tempo (Meses)', ylab='10³ litros',\n",
        "        main= 'Vendas de vinho na Australia', pch=18, col='blue')\n",
        "lines(1:length(itsmr::wine), itsmr::wine, lty = 2, lwd = 1, col='black')"
      ],
      "execution_count": null,
      "outputs": []
    },
    {
      "cell_type": "code",
      "source": [
        "summary(itsmr::wine)"
      ],
      "metadata": {
        "id": "Okht_OaWZMec"
      },
      "execution_count": null,
      "outputs": []
    },
    {
      "cell_type": "code",
      "source": [
        "data(sunspot.month)\n",
        "plot.ts(sunspot.month)"
      ],
      "metadata": {
        "id": "QWtdcJA66LIB"
      },
      "execution_count": null,
      "outputs": []
    },
    {
      "cell_type": "code",
      "source": [
        "data(nottem)\n",
        "plot.ts(nottem)"
      ],
      "metadata": {
        "id": "cz7AkH_C6lhz"
      },
      "execution_count": null,
      "outputs": []
    },
    {
      "cell_type": "code",
      "source": [
        "data(Nile)\n",
        "plot.ts(Nile)"
      ],
      "metadata": {
        "id": "deGQxBe263xV"
      },
      "execution_count": null,
      "outputs": []
    },
    {
      "cell_type": "code",
      "source": [
        "data(AirPassengers)\n",
        "plot.ts(AirPassengers)"
      ],
      "metadata": {
        "id": "oBvC8I6g6W5s"
      },
      "execution_count": null,
      "outputs": []
    },
    {
      "cell_type": "code",
      "source": [
        "data(airmiles)\n",
        "plot.ts(airmiles)"
      ],
      "metadata": {
        "id": "oQIR3B0o80Xc"
      },
      "execution_count": null,
      "outputs": []
    },
    {
      "cell_type": "markdown",
      "source": [
        "# Funções de autocorrelação"
      ],
      "metadata": {
        "id": "vUNVqVJRd1_T"
      }
    },
    {
      "cell_type": "code",
      "source": [
        "acf(itsmr::wine, lag.max=140, ci.type='ma')"
      ],
      "metadata": {
        "id": "tzoOzPs4bSZX"
      },
      "execution_count": null,
      "outputs": []
    },
    {
      "cell_type": "code",
      "source": [
        "acf(nottem, lag.max=200)"
      ],
      "metadata": {
        "id": "Pkzn5CS2fO_X"
      },
      "execution_count": null,
      "outputs": []
    },
    {
      "cell_type": "code",
      "source": [
        "acf(Nile, lag.max=150)"
      ],
      "metadata": {
        "id": "uA5LiGhzhNdJ"
      },
      "execution_count": null,
      "outputs": []
    },
    {
      "cell_type": "code",
      "source": [
        "itsmr::plota(AirPassengers)"
      ],
      "metadata": {
        "id": "KLGpMFV4im5E"
      },
      "execution_count": null,
      "outputs": []
    },
    {
      "cell_type": "markdown",
      "source": [
        "# Dados artificiais"
      ],
      "metadata": {
        "id": "8bx4OnDyeOpq"
      }
    },
    {
      "cell_type": "code",
      "source": [
        "n<-100\n",
        "t <- 1:n\n",
        "serie1 <- 2*cos(2*pi*t*6/n) + 3*sin(2*pi*t*6/n)\n",
        "serie2 <- 4*cos(2*pi*t*10/n) + 5*sin(2*pi*t*10/n)\n",
        "serie3 <- 6*cos(2*pi*t*40/n) + 7*sin(2*pi*t*40/n)\n",
        "ruido <- rnorm(n)\n",
        "\n",
        "x <- serie1 + serie2 + serie3 + ruido\n",
        "\n",
        "par(mfrow=c(2,2))\n",
        "plot.ts(serie1, ylim=c(-16,16), main=\"frequencia=6/100, amplitude**2=13\")\n",
        "plot.ts(serie2, ylim=c(-16,16), main=\"frequencia=10/100, amplitude**2=41\")\n",
        "plot.ts(serie3, ylim=c(-16,16), main=\"frequencia=40/100, amplitude**2=85\")\n",
        "plot.ts(x, ylim=c(-16,16), main=\"Série final\")"
      ],
      "metadata": {
        "id": "jhkeNJZbJYwi"
      },
      "execution_count": null,
      "outputs": []
    },
    {
      "cell_type": "markdown",
      "source": [
        "## Gerando processos com representação ARMA(p,q)"
      ],
      "metadata": {
        "id": "tTpnJ07JJeGk"
      }
    },
    {
      "cell_type": "code",
      "source": [
        "n <- 500\n",
        "\n",
        "ar.sim <- arima.sim(list(order = c(1,0,0), ar = 0.3), n)\n",
        "\n",
        "par(mfrow=c(2,1))\n",
        "acf(ar.sim, lag.max = n*0.5)\n",
        "acf(ar.sim, ci.type=\"ma\", lag.max = n*0.5)"
      ],
      "metadata": {
        "id": "82j1RiKw3J6v"
      },
      "execution_count": null,
      "outputs": []
    },
    {
      "cell_type": "code",
      "source": [
        "n < - 500\n",
        "ar.sim <- arima.sim(list(order = c(1,0,0), ar = 0.9), n)\n",
        "\n",
        "par(mfrow=c(2,1))\n",
        "acf(ar.sim, lag.max = n*0.5)\n",
        "acf(ar.sim, ci.type=\"ma\", lag.max = n*0.5)"
      ],
      "metadata": {
        "id": "NwN2V_WwMsfE"
      },
      "execution_count": null,
      "outputs": []
    },
    {
      "cell_type": "code",
      "metadata": {
        "id": "oeuPt-X-3up7"
      },
      "source": [
        "n<-1000\n",
        "\n",
        "ma.sim<-arima.sim(list(order=c(0,0,1),ma=0.2),n)\n",
        "\n",
        "acf(ma.sim, ci.type=\"ma\")"
      ],
      "execution_count": null,
      "outputs": []
    },
    {
      "cell_type": "code",
      "metadata": {
        "id": "yneXKb3f32n_"
      },
      "source": [
        "n<-1000\n",
        "x <- fracdiff::fracdiff.sim(n, d=0.3)$series\n",
        "\n",
        "plot.ts(x)"
      ],
      "execution_count": null,
      "outputs": []
    },
    {
      "cell_type": "code",
      "source": [
        "options(repr.plot.width = 20, repr.plot.height = 15)"
      ],
      "metadata": {
        "id": "PkzagiSb6VmN"
      },
      "execution_count": null,
      "outputs": []
    },
    {
      "cell_type": "code",
      "source": [
        "itsmr::plotc(x)\n",
        "itsmr::plota(x)"
      ],
      "metadata": {
        "id": "xICrxWaPfOs5"
      },
      "execution_count": null,
      "outputs": []
    },
    {
      "cell_type": "code",
      "source": [
        "acf(x)"
      ],
      "metadata": {
        "id": "hT1Ws7CN_wTE"
      },
      "execution_count": null,
      "outputs": []
    }
  ]
}