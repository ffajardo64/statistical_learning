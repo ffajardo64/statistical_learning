{
  "nbformat": 4,
  "nbformat_minor": 0,
  "metadata": {
    "colab": {
      "provenance": []
    },
    "kernelspec": {
      "name": "ir",
      "display_name": "R"
    },
    "language_info": {
      "name": "R"
    }
  },
  "cells": [
    {
      "cell_type": "markdown",
      "metadata": {
        "id": "Y1Ixknhz3hEX"
      },
      "source": [
        "# Aula de Séries Temporais I"
      ]
    },
    {
      "cell_type": "code",
      "metadata": {
        "id": "C_Yi9tQaEylT"
      },
      "source": [
        "# Alguns pacotes requeridos\n",
        "\n",
        "if(!require(itsmr)) install.packages(\"itsmr\", repos = \"http://cran.us.r-project.org\")\n",
        "if(!require(astsa)) install.packages(\"astsa\", repos = \"http://cran.us.r-project.org\")\n",
        "if(!require(fracdiff)) install.packages(\"fracdiff\", repos = \"http://cran.us.r-project.org\")\n",
        "#if(!require(TSA)) install.packages(\"TSA\", repos = \"http://cran.us.r-project.org\")\n",
        "#if(!require(forecast)) install.packages(\"forecast\", repos = \"http://cran.us.r-project.org\")\n",
        "#if(!require(lmtest)) install.packages(\"lmtest\", repos = \"http://cran.us.r-project.org\")\n",
        "#if(!require(car)) install.packages(\"car\", repos = \"http://cran.us.r-project.org\")"
      ],
      "execution_count": null,
      "outputs": []
    },
    {
      "cell_type": "markdown",
      "source": [
        "## Estimação da tendência\n"
      ],
      "metadata": {
        "id": "h_gxuI21bZi4"
      }
    },
    {
      "cell_type": "code",
      "source": [
        "# Aumentar o tamanho das figuras no jupyter (opcional)\n",
        "options(repr.plot.width = 15, repr.plot.height = 15)"
      ],
      "metadata": {
        "id": "HiCiNXzhcW1C"
      },
      "execution_count": null,
      "outputs": []
    },
    {
      "cell_type": "code",
      "source": [
        "# Exemplo 1.\n",
        "y <- arima.sim(n=n,list(order=c(1,0,0),ar=0.1))\n",
        "\n",
        "itsmr::plotc(y)\n",
        "itsmr::plota(y)"
      ],
      "metadata": {
        "id": "Hwzsd8jPkmGu"
      },
      "execution_count": null,
      "outputs": []
    },
    {
      "cell_type": "code",
      "source": [
        "metade <- round(n*0.5)\n",
        "\n",
        "z<-c(y[1:metade],y[(metade+1):n]+1)\n",
        "\n",
        "itsmr::plotc(z)\n",
        "itsmr::plota(z)"
      ],
      "metadata": {
        "id": "D0C307PKlDWa"
      },
      "execution_count": null,
      "outputs": []
    },
    {
      "cell_type": "code",
      "metadata": {
        "id": "8uoNclJQuzYO"
      },
      "source": [
        "# Exemplo 1a.\n",
        "\n",
        "n <- 1000\n",
        "t <- 1:n\n",
        "serie1 <- 2*cos(2*pi*t*6/n) + 3*sin(2*pi*t*6/n)\n",
        "serie2 <- 4*cos(2*pi*t*10/n) + 5*sin(2*pi*t*10/n)\n",
        "serie3 <- 6*cos(2*pi*t*40/n) + 7*sin(2*pi*t*40/n)\n",
        "s <- serie1+serie2+serie3\n",
        "\n",
        "y <- rnorm(n,sd=10)\n",
        "m <- 3.0 + 0.1*t\n",
        "x <- m + s + y\n",
        "\n",
        "series_all <- cbind(x,m,y)\n",
        "\n",
        "par(mfrow=c(3,1))\n",
        "plot.ts(y, main=\"Comp. estocástica\")\n",
        "plot.ts(m, main=\"Tendência\")\n",
        "plot.ts(x, main=\"Série gerada\")"
      ],
      "execution_count": null,
      "outputs": []
    },
    {
      "cell_type": "code",
      "source": [
        "# Exemplo 1b.\n",
        "\n",
        "n <- 1000\n",
        "t <- 1:n\n",
        "serie1 <- 2*cos(2*pi*t*6/n) + 3*sin(2*pi*t*6/n)\n",
        "serie2 <- 4*cos(2*pi*t*10/n) + 5*sin(2*pi*t*10/n)\n",
        "serie3 <- 6*cos(2*pi*t*40/n) + 7*sin(2*pi*t*40/n)\n",
        "s <- serie1+serie2+serie3\n",
        "\n",
        "y <- arima.sim(n=n,list(order=c(1,0,0),ar=0.1))\n",
        "m <- 3.0 + 0.1*t\n",
        "x <- m + s + y\n",
        "\n",
        "series_all <- cbind(x,m,y)\n",
        "\n",
        "par(mfrow=c(3,1))\n",
        "plot.ts(y, main=\"Comp. estocástica\")\n",
        "plot.ts(m, main=\"Tendência\")\n",
        "plot.ts(x, main=\"Série gerada\")"
      ],
      "metadata": {
        "id": "xuBcADmvislf"
      },
      "execution_count": null,
      "outputs": []
    },
    {
      "cell_type": "code",
      "source": [
        "itsmr::plotc(x,diff(x))\n",
        "itsmr::plota(x,h=100)\n",
        "itsmr::plota(diff(x),h=100)\n",
        "itsmr::plota(diff(x,12),h=100)"
      ],
      "metadata": {
        "id": "Okht_OaWZMec"
      },
      "execution_count": null,
      "outputs": []
    },
    {
      "cell_type": "code",
      "source": [
        "# Exemplo 2.\n",
        "\n",
        "data(AirPassengers)\n",
        "plot.ts(AirPassengers)"
      ],
      "metadata": {
        "id": "oBvC8I6g6W5s"
      },
      "execution_count": null,
      "outputs": []
    },
    {
      "cell_type": "code",
      "source": [
        "plot(decompose(AirPassengers))"
      ],
      "metadata": {
        "id": "QWtdcJA66LIB"
      },
      "execution_count": null,
      "outputs": []
    },
    {
      "cell_type": "code",
      "source": [
        "# Exemplo 3.\n",
        "\n",
        "itsmr::plotc(itsmr::strikes)\n",
        "itsmr::plota(itsmr::strikes)"
      ],
      "metadata": {
        "id": "cz7AkH_C6lhz"
      },
      "execution_count": null,
      "outputs": []
    },
    {
      "cell_type": "code",
      "source": [
        "## Method 1: Trend Estimation\n",
        "\n",
        "# 1. Smoothing with a finite moving average filter\n",
        "itsmr::plotc(itsmr::strikes,itsmr::smooth.ma(itsmr::strikes,q=2)) #apply(embed(strikes,5), 1, mean)\n",
        "itsmr::plotc(itsmr::strikes-itsmr::smooth.ma(itsmr::strikes,q=2))\n",
        "itsmr::plota(itsmr::strikes-itsmr::smooth.ma(itsmr::strikes,q=2))"
      ],
      "metadata": {
        "id": "deGQxBe263xV"
      },
      "execution_count": null,
      "outputs": []
    },
    {
      "cell_type": "code",
      "source": [
        "# 2. Exponential smoothing\n",
        "itsmr::plotc(itsmr::strikes,itsmr::smooth.exp(itsmr::strikes, alpha = 0.4))\n",
        "itsmr::plotc(itsmr::strikes-itsmr::smooth.exp(itsmr::strikes, alpha = 0.4))\n",
        "itsmr::plota(itsmr::strikes-itsmr::smooth.exp(itsmr::strikes, alpha = 0.4))"
      ],
      "metadata": {
        "id": "oQIR3B0o80Xc"
      },
      "execution_count": null,
      "outputs": []
    },
    {
      "cell_type": "code",
      "source": [
        "# 3. Smoothing by elimination of high-frequency components.\n",
        "\n",
        "itsmr::plotc(itsmr::strikes,itsmr::smooth.fft(itsmr::strikes, f = 0.4))\n",
        "itsmr::plotc(itsmr::strikes-itsmr::smooth.fft(itsmr::strikes, f = 0.4))\n",
        "itsmr::plota(itsmr::strikes-itsmr::smooth.fft(itsmr::strikes, f = 0.4))"
      ],
      "metadata": {
        "id": "oQfCPtxun71G"
      },
      "execution_count": null,
      "outputs": []
    },
    {
      "cell_type": "code",
      "source": [
        "# 4. Polynomial fitting.\n",
        "itsmr::plotc(itsmr::strikes,itsmr::trend(itsmr::strikes,3))\n",
        "itsmr::plotc(itsmr::strikes-itsmr::trend(itsmr::strikes,3))\n",
        "itsmr::plota(itsmr::strikes-itsmr::trend(itsmr::strikes,3))"
      ],
      "metadata": {
        "id": "NFe9M4L9oAc-"
      },
      "execution_count": null,
      "outputs": []
    }
  ]
}