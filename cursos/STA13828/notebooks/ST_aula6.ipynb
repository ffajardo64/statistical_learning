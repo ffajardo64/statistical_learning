{
  "cells": [
    {
      "cell_type": "code",
      "execution_count": null,
      "metadata": {
        "id": "ZhUHWLXlt2Bl"
      },
      "outputs": [],
      "source": [
        "suppressPackageStartupMessages(if(!require(itsmr)) install.packages(\"itsmr\", repos = \"http://cran.us.r-project.org\"))\n",
        "suppressPackageStartupMessages(if(!require(astsa)) install.packages(\"astsa\", repos = \"http://cran.us.r-project.org\"))\n",
        "suppressPackageStartupMessages(if(!require(TSA)) install.packages(\"TSA\", repos = \"http://cran.us.r-project.org\"))\n",
        "suppressPackageStartupMessages(if(!require(urca)) install.packages(\"urca\", repos = \"http://cran.us.r-project.org\"))\n",
        "suppressPackageStartupMessages(if(!require(fracdiff)) install.packages(\"fracdiff\", repos = \"http://cran.us.r-project.org\"))\n",
        "\n",
        "suppressPackageStartupMessages(if(!require(tsoutliers)) install.packages(\"tsoutliers\", repos = \"http://cran.us.r-project.org\"))\n",
        "\n",
        "suppressPackageStartupMessages(if(!require(lmtest)) install.packages(\"lmtest\", repos = \"http://cran.us.r-project.org\"))\n",
        "suppressPackageStartupMessages(if(!require(car)) install.packages(\"car\", repos = \"http://cran.us.r-project.org\"))\n",
        "\n",
        "# Previsão\n",
        "suppressPackageStartupMessages(if(!require(forecast)) install.packages(\"forecast\", repos = \"http://cran.us.r-project.org\"))\n",
        "suppressPackageStartupMessages(if(!require(tsfknn)) install.packages(\"tsfknn\", repos = \"http://cran.us.r-project.org\"))\n",
        "#suppressPackageStartupMessages(if(!require(BootPR)) install.packages(\"BootPR\", repos = \"http://cran.us.r-project.org\"))\n",
        "#suppressPackageStartupMessages(if(!require(forecastML)) install.packages(\"forecastML\", repos = \"http://cran.us.r-project.org\"))"
      ]
    },
    {
      "cell_type": "code",
      "execution_count": null,
      "metadata": {
        "id": "0gYvMTPL2TlP"
      },
      "outputs": [],
      "source": [
        "# Aumentar o tamanho das figuras\n",
        "options(repr.plot.width=16, repr.plot.height=12)\n",
        "#options(repr.plot.width=8, repr.plot.height=6)"
      ]
    },
    {
      "cell_type": "code",
      "source": [
        "data(AirPassengers); serie <- AirPassengers\n",
        "itsmr::plotc(serie); itsmr::plota(serie)"
      ],
      "metadata": {
        "id": "pzAuCC1yMaIX"
      },
      "execution_count": null,
      "outputs": []
    },
    {
      "cell_type": "code",
      "source": [
        "lambda <- forecast::BoxCox.lambda(serie, method=c(\"guerrero\"), lower = 0, upper = 1) # \"loglik\" \"guerrero\"\n",
        "lambda"
      ],
      "metadata": {
        "id": "iME2INiC_qb0"
      },
      "execution_count": null,
      "outputs": []
    },
    {
      "cell_type": "code",
      "source": [
        "air.fit <- forecast::Arima(serie, order=c(2,1,0), seasonal=list(order=c(0,1,0),period=12), lambda=lambda)\n",
        "plot(forecast::forecast(air.fit))"
      ],
      "metadata": {
        "id": "V49Sgn5YzCr5"
      },
      "execution_count": null,
      "outputs": []
    },
    {
      "cell_type": "markdown",
      "source": [
        "# Raiz unitária"
      ],
      "metadata": {
        "id": "qh5_OLSU5EUr"
      }
    },
    {
      "cell_type": "markdown",
      "source": [
        "[Urca: Unit Root Test and Cointegration Test](https://jtr13.github.io/cc21fall2/urca-unit-root-test-and-cointegration-test.html)"
      ],
      "metadata": {
        "id": "QaCrE-m0-8GN"
      }
    },
    {
      "cell_type": "code",
      "source": [
        "tseries::adf.test(serie)"
      ],
      "metadata": {
        "id": "YibDOVR05v0N"
      },
      "execution_count": null,
      "outputs": []
    },
    {
      "cell_type": "code",
      "source": [
        "?urca::ur.df"
      ],
      "metadata": {
        "id": "VZWDMcgm78el"
      },
      "execution_count": null,
      "outputs": []
    },
    {
      "cell_type": "code",
      "source": [
        "summary(urca::ur.df(serie, type = \"trend\"))"
      ],
      "metadata": {
        "id": "3rGlG8u547ke"
      },
      "execution_count": null,
      "outputs": []
    },
    {
      "cell_type": "code",
      "source": [
        "tseries::pp.test(serie)"
      ],
      "metadata": {
        "id": "nUTmKNPn6wLr"
      },
      "execution_count": null,
      "outputs": []
    },
    {
      "cell_type": "code",
      "source": [
        "summary(urca::ur.kpss(serie,type=\"mu\"))"
      ],
      "metadata": {
        "id": "40y-u3Z56FFp"
      },
      "execution_count": null,
      "outputs": []
    },
    {
      "cell_type": "code",
      "source": [
        "summary(urca::ur.kpss(serie,type=\"tau\"))"
      ],
      "metadata": {
        "id": "8Dq99TgR6p1B"
      },
      "execution_count": null,
      "outputs": []
    },
    {
      "cell_type": "code",
      "source": [
        "summary(urca::ur.ers(serie, type=\"P-test\", model=\"trend\"))"
      ],
      "metadata": {
        "id": "RjKhtlYY83wJ"
      },
      "execution_count": null,
      "outputs": []
    },
    {
      "cell_type": "code",
      "source": [
        "HW1 <- HoltWinters(serie)\n",
        "HW2 <- HoltWinters(serie, alpha=0.8, beta=0.1, gamma=0.1)\n",
        "plot(serie, ylab=\"Passageiros\", xlim=c(1954,1958))\n",
        "lines(HW1$fitted[,1], lty=2, col=\"blue\")\n",
        "lines(HW2$fitted[,1], lty=2, col=\"red\")"
      ],
      "metadata": {
        "id": "PgCof5hFM0B7"
      },
      "execution_count": null,
      "outputs": []
    },
    {
      "cell_type": "code",
      "source": [
        "HW1.pred <- predict(HW1, 12, prediction.interval = TRUE, level=0.95)\n",
        "plot(serie, ylab=\"Passageiros\", xlim=c(1955.1,1962.1))\n",
        "lines(HW1$fitted[,1], lty=2, col=\"blue\")\n",
        "lines(HW1.pred[,1], col=\"red\") # Previsão\n",
        "lines(HW1.pred[,2], lty=2, col=\"green\") # Limite superior do intervalo\n",
        "lines(HW1.pred[,3], lty=2, col=\"green\") # Limite inferior do intervalo"
      ],
      "metadata": {
        "id": "QdvhbW_TNC7C"
      },
      "execution_count": null,
      "outputs": []
    },
    {
      "cell_type": "code",
      "source": [
        "HW3 <- HoltWinters(serie, seasonal = \"multiplicative\")\n",
        "HW3.pred <- predict(HW3, 12, prediction.interval = TRUE, level=0.95)\n",
        "plot(serie, ylab=\"Passageiros\", xlim=c(1955.1,1962.1))\n",
        "lines(HW3$fitted[,1], lty=2, col=\"blue\")\n",
        "lines(HW3.pred[,1], col=\"red\")\n",
        "lines(HW3.pred[,2], lty=2, col=\"green\")\n",
        "lines(HW3.pred[,3], lty=2, col=\"green\")"
      ],
      "metadata": {
        "id": "Jpi1U6o6NT97"
      },
      "execution_count": null,
      "outputs": []
    },
    {
      "cell_type": "code",
      "source": [
        "HW1_forecast <- forecast(HW1, h=12, level=c(80,95))\n",
        "plot(HW1_forecast, xlim=c(1955.1,1962.1))\n",
        "lines(HW1_forecast$fitted, lty=2, col=\"blue\")"
      ],
      "metadata": {
        "id": "9zwqCcsJNcka"
      },
      "execution_count": null,
      "outputs": []
    },
    {
      "cell_type": "code",
      "source": [
        "itsmr::arar(serie, h=12, opt=2)"
      ],
      "metadata": {
        "id": "HQtUb4YX1wFs"
      },
      "execution_count": null,
      "outputs": []
    },
    {
      "cell_type": "code",
      "source": [
        "autoplot(forecast::snaive(serie, h=12, bootstrap=TRUE))"
      ],
      "metadata": {
        "id": "WvM53dr5Op9D"
      },
      "execution_count": null,
      "outputs": []
    },
    {
      "cell_type": "code",
      "source": [
        "pred <- tsfknn::knn_forecasting(serie, h = 12, lags = 1:12, k = 2)\n",
        "pred$prediction\n",
        "plot(pred)"
      ],
      "metadata": {
        "id": "Yg3Z4tSXNisb"
      },
      "execution_count": null,
      "outputs": []
    },
    {
      "cell_type": "markdown",
      "source": [
        "# Tratamento de dados atípicos"
      ],
      "metadata": {
        "id": "sZ1TndG54FyI"
      }
    },
    {
      "cell_type": "code",
      "execution_count": null,
      "metadata": {
        "id": "cmnuigVEurFY"
      },
      "outputs": [],
      "source": [
        "n<-1000\n",
        "x<-arima.sim(n=n,list(order=c(1,0,0),ar=0.5))"
      ]
    },
    {
      "cell_type": "code",
      "execution_count": null,
      "metadata": {
        "id": "HRFlCejEzLW3"
      },
      "outputs": [],
      "source": [
        "itsmr::plotc(x)"
      ]
    },
    {
      "cell_type": "code",
      "execution_count": null,
      "metadata": {
        "id": "nk87FZgN0hgt"
      },
      "outputs": [],
      "source": [
        "fit.x<-arima(x, order=c(1, 0, 0), include.mean = FALSE)\n",
        "coeftest(fit.x)"
      ]
    },
    {
      "cell_type": "code",
      "execution_count": null,
      "metadata": {
        "id": "OW33IspEDwvi"
      },
      "outputs": [],
      "source": [
        "itsmr::plotc(fitted(fit.x),x)"
      ]
    },
    {
      "cell_type": "code",
      "execution_count": null,
      "metadata": {
        "id": "e9tdEEs01WoH"
      },
      "outputs": [],
      "source": [
        "y<-x\n",
        "y[n*0.5]<-y[n*0.5]+10\n",
        "itsmr::plotc(y)"
      ]
    },
    {
      "cell_type": "code",
      "execution_count": null,
      "metadata": {
        "id": "vUFGQI2dUQa8"
      },
      "outputs": [],
      "source": [
        "forecast::tsoutliers(y)"
      ]
    },
    {
      "cell_type": "code",
      "execution_count": null,
      "metadata": {
        "id": "aqVss7-LUhtX"
      },
      "outputs": [],
      "source": [
        "itsmr::plotc(forecast::tsclean(y),y)"
      ]
    },
    {
      "cell_type": "code",
      "execution_count": null,
      "metadata": {
        "id": "PadVktdt2MSD"
      },
      "outputs": [],
      "source": [
        "itsmr::plota(x); itsmr::plota(y)"
      ]
    },
    {
      "cell_type": "code",
      "execution_count": null,
      "metadata": {
        "id": "vNQcTzTX1w-g"
      },
      "outputs": [],
      "source": [
        "fit.y<-arima(y, order=c(1, 0, 0), include.mean = FALSE)\n",
        "lmtest::coeftest(fit.y)"
      ]
    },
    {
      "cell_type": "code",
      "execution_count": null,
      "metadata": {
        "id": "UTfsLZpg37aj"
      },
      "outputs": [],
      "source": [
        "itsmr::plotc(fitted(fit.y),y)"
      ]
    },
    {
      "cell_type": "code",
      "execution_count": null,
      "metadata": {
        "id": "IXdSZ9wI4k36"
      },
      "outputs": [],
      "source": [
        "tc <- rep(0, n)\n",
        "tc[n*0.5] <- 1\n",
        "ao <- filter(tc, filter = 0, method = \"recursive\")\n",
        "plot(ao, main = \"Outlier Aditivo - TC delta = 0\", type = \"l\")"
      ]
    },
    {
      "cell_type": "code",
      "execution_count": null,
      "metadata": {
        "id": "9A2_CXS68ph3"
      },
      "outputs": [],
      "source": [
        "fit.interv<-arima(y, order=c(1, 0, 0), xreg=tc, include.mean = FALSE)\n",
        "coeftest(fit.interv)"
      ]
    },
    {
      "cell_type": "code",
      "execution_count": null,
      "metadata": {
        "id": "J12J4B_A9Blz"
      },
      "outputs": [],
      "source": [
        "itsmr::plotc(y-fit.interv$residuals,y)"
      ]
    },
    {
      "cell_type": "code",
      "execution_count": null,
      "metadata": {
        "id": "hNRDYJsexUhJ"
      },
      "outputs": [],
      "source": [
        "ao_effect <- fit.interv$coef[2]*tc"
      ]
    },
    {
      "cell_type": "code",
      "execution_count": null,
      "metadata": {
        "id": "UR9Fb2f0bQzf"
      },
      "outputs": [],
      "source": [
        "fit.interv$coef[2]"
      ]
    },
    {
      "cell_type": "code",
      "execution_count": null,
      "metadata": {
        "id": "Nti6g4hRxqrB"
      },
      "outputs": [],
      "source": [
        "ao_effect_ts <- ts(ao_effect)\n",
        "\n",
        "# Substraindo o efeito da intervenção\n",
        "excess_wo_ts <- y - ao_effect_ts\n",
        "\n",
        "plot(cbind(y, excess_wo_ts, ao_effect_ts), main=\"Serie original e corrigida por outliers\")"
      ]
    },
    {
      "cell_type": "code",
      "execution_count": null,
      "metadata": {
        "id": "X6lI2XZYyE9S"
      },
      "outputs": [],
      "source": [
        "plotc(excess_wo_ts,x)"
      ]
    },
    {
      "cell_type": "markdown",
      "metadata": {
        "id": "skTZOPeYxdIf"
      },
      "source": [
        "## Usando o pacote tsoutliers"
      ]
    },
    {
      "cell_type": "code",
      "execution_count": null,
      "metadata": {
        "id": "L9MK-BwNpYJT"
      },
      "outputs": [],
      "source": [
        "outliers_excess_ts <- tso(y, types = c(\"TC\", \"AO\", \"LS\", \"IO\", \"SLS\"))\n",
        "outliers_excess_ts"
      ]
    },
    {
      "cell_type": "code",
      "execution_count": null,
      "metadata": {
        "colab": {
          "background_save": true
        },
        "id": "5qbQXnQ7pkem"
      },
      "outputs": [],
      "source": [
        "plot(outliers_excess_ts)"
      ]
    },
    {
      "cell_type": "code",
      "execution_count": null,
      "metadata": {
        "id": "Rl-TcOLXpkid"
      },
      "outputs": [],
      "source": [
        "outliers_excess_ts$outliers"
      ]
    },
    {
      "cell_type": "code",
      "execution_count": null,
      "metadata": {
        "id": "IEsm_VI_pkmQ"
      },
      "outputs": [],
      "source": [
        "(outliers_idx <- outliers_excess_ts$outliers$ind)"
      ]
    },
    {
      "cell_type": "code",
      "execution_count": null,
      "metadata": {
        "id": "hou5tsg4p66A"
      },
      "outputs": [],
      "source": [
        "mo_tc <- outliers(\"AO\", outliers_idx); mo_tc"
      ]
    },
    {
      "cell_type": "code",
      "execution_count": null,
      "metadata": {
        "id": "0CGJ7DVxp69g"
      },
      "outputs": [],
      "source": [
        "tc <- outliers.effects(mo_tc, n)"
      ]
    },
    {
      "cell_type": "code",
      "execution_count": null,
      "metadata": {
        "id": "j3DtfXh7p7BV"
      },
      "outputs": [],
      "source": [
        "plot(tc,type='l')"
      ]
    },
    {
      "cell_type": "code",
      "execution_count": null,
      "metadata": {
        "id": "vNgFxky1p7GW"
      },
      "outputs": [],
      "source": [
        "omega_hat <- as.numeric(outliers_excess_ts$outliers[\"coefhat\"])\n",
        "\n",
        "# Calculando vetor que representa o efeito da intervenção\n",
        "ao_effect <- omega_hat*tc\n",
        "\n",
        "ao_effect_ts <- ts(ao_effect)\n",
        "\n",
        "# Substraindo o efeito da intervenção\n",
        "excess_wo_ts <- y - ao_effect_ts\n",
        "\n",
        "plot(cbind(y, excess_wo_ts, ao_effect_ts), main=\"Serie original e corrigida por outliers\")"
      ]
    },
    {
      "cell_type": "code",
      "execution_count": null,
      "metadata": {
        "id": "SM-un_vishr_"
      },
      "outputs": [],
      "source": [
        "plotc(excess_wo_ts,x)"
      ]
    },
    {
      "cell_type": "markdown",
      "metadata": {
        "id": "zo2zgOA-MU4U"
      },
      "source": [
        "### Mudança transitória\n",
        "\n",
        "\\begin{equation}\n",
        "\\begin{aligned}\n",
        "f_t(T) = \\dfrac{\\omega B}{1 – \\delta B} \\mathbb{I}_{t}(T)\n",
        "\\end{aligned}\n",
        "\\end{equation}"
      ]
    },
    {
      "cell_type": "code",
      "execution_count": null,
      "metadata": {
        "id": "pdJgAlaYI3xi"
      },
      "outputs": [],
      "source": [
        "tc_0_4 <- filter(tc, filter = 0.4, method = \"recursive\")\n",
        "tc_0_8 <- filter(tc, filter = 0.8, method = \"recursive\")\n",
        "plot(tc_0_4[400:600], main = \"TC delta = 0.4\", type = \"l\") # Intervalo [400,600]\n",
        "plot(tc_0_8[400:600], main = \"TC delta = 0.8\", type = \"l\")"
      ]
    },
    {
      "cell_type": "markdown",
      "metadata": {
        "id": "-OgrLmagynu3"
      },
      "source": [
        "### Mudança permanente"
      ]
    },
    {
      "cell_type": "code",
      "execution_count": null,
      "metadata": {
        "id": "au4IGE2dJSvJ"
      },
      "outputs": [],
      "source": [
        "tc <- rep(0, n)\n",
        "tc[n*0.5] <- 1\n",
        "ls <- filter(tc, filter = 1, method = \"recursive\")\n",
        "plot(ls, main = \"Level Shift (Mudança de nivel) - TC delta = 1\", type = \"l\")"
      ]
    },
    {
      "cell_type": "code",
      "execution_count": null,
      "metadata": {
        "id": "Hf-GxKmvJk6n"
      },
      "outputs": [],
      "source": [
        "url <- \"https://bit.ly/3l3MHlm\"\n",
        "abhutondot <- read.csv(url, header=TRUE)\n",
        "\n",
        "boys_ts <- ts(abhutondot$boys, frequency=1, start = abhutondot$year[1])\n",
        "girls_ts <- ts(abhutondot$girls, frequency=1, start = abhutondot$year[1])\n",
        "\n",
        "delta_ts <- boys_ts - girls_ts\n",
        "excess_ts <- delta_ts/girls_ts\n",
        "plot(excess_ts)"
      ]
    },
    {
      "cell_type": "code",
      "execution_count": null,
      "metadata": {
        "id": "gTC-NiU7JS4k"
      },
      "outputs": [],
      "source": [
        "outliers_excess_ts <- tso(excess_ts, types = c(\"TC\", \"AO\", \"LS\", \"IO\", \"SLS\"))\n",
        "outliers_excess_ts"
      ]
    },
    {
      "cell_type": "code",
      "execution_count": null,
      "metadata": {
        "id": "iDKDzwECL11A"
      },
      "outputs": [],
      "source": [
        "plot(outliers_excess_ts)"
      ]
    },
    {
      "cell_type": "code",
      "execution_count": null,
      "metadata": {
        "colab": {
          "background_save": true
        },
        "id": "Yz7ts52xZZMp"
      },
      "outputs": [],
      "source": [
        "outliers_excess_ts$outliers"
      ]
    },
    {
      "cell_type": "code",
      "execution_count": null,
      "metadata": {
        "id": "c_wMBtxHZZPv"
      },
      "outputs": [],
      "source": [
        "# Indice ou posição do valor atípico\n",
        "(outliers_idx <- outliers_excess_ts$outliers$ind)"
      ]
    },
    {
      "cell_type": "code",
      "execution_count": null,
      "metadata": {
        "id": "VV-TotDWZZST"
      },
      "outputs": [],
      "source": [
        "# Tempo em que foi observado o valor atípico\n",
        "outliers_excess_ts$outliers$time"
      ]
    },
    {
      "cell_type": "code",
      "execution_count": null,
      "metadata": {
        "id": "cAv3T5gZZpAG"
      },
      "outputs": [],
      "source": [
        "# Tamanho de amostra\n",
        "n <- length(excess_ts)"
      ]
    },
    {
      "cell_type": "code",
      "execution_count": null,
      "metadata": {
        "colab": {
          "background_save": true
        },
        "id": "LOPfvKh2ZpFT"
      },
      "outputs": [],
      "source": [
        "# transient change outlier at the same time index as found for our time series\n",
        "mo_tc <- outliers(\"TC\", outliers_idx)"
      ]
    },
    {
      "cell_type": "code",
      "execution_count": null,
      "metadata": {
        "id": "tJyhRhNAZpIh"
      },
      "outputs": [],
      "source": [
        "# transient change effect data is stored into a one-column matrix, tc\n",
        "tc <- outliers.effects(mo_tc, n)"
      ]
    },
    {
      "cell_type": "code",
      "execution_count": null,
      "metadata": {
        "id": "rKVkWB6hZpLK"
      },
      "outputs": [],
      "source": [
        "plot(tc,type='l')"
      ]
    },
    {
      "cell_type": "code",
      "execution_count": null,
      "metadata": {
        "id": "fgZ5-VRvL6LN"
      },
      "outputs": [],
      "source": [
        "# converting to a number\n",
        "coefhat <- as.numeric(outliers_excess_ts$outliers[\"coefhat\"])\n",
        "\n",
        "# obtaining the transient change data with same magnitude as determined by the tso() function\n",
        "tc_effect <- coefhat*tc\n",
        "\n",
        "# definining a time series for the transient change data\n",
        "tc_effect_ts <- ts(tc_effect, frequency = frequency(excess_ts), start = start(excess_ts))\n",
        "\n",
        "# subtracting the transient change intervention to the original time series, obtaining the pre-intervention time series\n",
        "excess_wo_ts <- excess_ts - tc_effect_ts\n",
        "\n",
        "# plot of the original, the pre-intervention and transient change time series\n",
        "plot(cbind(excess_ts, excess_wo_ts, tc_effect_ts))"
      ]
    },
    {
      "cell_type": "code",
      "execution_count": null,
      "metadata": {
        "id": "xPgrEr2bapYu"
      },
      "outputs": [],
      "source": [
        "plotc(tc_effect_ts+excess_wo_ts)"
      ]
    },
    {
      "cell_type": "code",
      "execution_count": null,
      "metadata": {
        "id": "WMHWaBmpaa9N"
      },
      "outputs": [],
      "source": [
        "plotc(excess_ts)"
      ]
    }
  ],
  "metadata": {
    "colab": {
      "provenance": []
    },
    "kernelspec": {
      "display_name": "R",
      "name": "ir"
    },
    "language_info": {
      "name": "R"
    }
  },
  "nbformat": 4,
  "nbformat_minor": 0
}