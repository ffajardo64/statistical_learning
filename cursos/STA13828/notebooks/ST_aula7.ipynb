{
  "cells": [
    {
      "cell_type": "code",
      "execution_count": null,
      "metadata": {
        "id": "ZhUHWLXlt2Bl"
      },
      "outputs": [],
      "source": [
        "suppressPackageStartupMessages(if(!require(itsmr)) install.packages(\"itsmr\", repos = \"http://cran.us.r-project.org\"))\n",
        "suppressPackageStartupMessages(if(!require(astsa)) install.packages(\"astsa\", repos = \"http://cran.us.r-project.org\"))\n",
        "suppressPackageStartupMessages(if(!require(TSA)) install.packages(\"TSA\", repos = \"http://cran.us.r-project.org\"))\n",
        "#suppressPackageStartupMessages(if(!require(urca)) install.packages(\"urca\", repos = \"http://cran.us.r-project.org\"))\n",
        "suppressPackageStartupMessages(if(!require(fracdiff)) install.packages(\"fracdiff\", repos = \"http://cran.us.r-project.org\"))\n",
        "\n",
        "suppressPackageStartupMessages(if(!require(tsoutliers)) install.packages(\"tsoutliers\", repos = \"http://cran.us.r-project.org\"))\n",
        "\n",
        "suppressPackageStartupMessages(if(!require(lmtest)) install.packages(\"lmtest\", repos = \"http://cran.us.r-project.org\"))\n",
        "#suppressPackageStartupMessages(if(!require(car)) install.packages(\"car\", repos = \"http://cran.us.r-project.org\"))\n",
        "\n",
        "suppressPackageStartupMessages(if(!require(forecast)) install.packages(\"forecast\", repos = \"http://cran.us.r-project.org\"))\n",
        "#suppressPackageStartupMessages(if(!require(tsfknn)) install.packages(\"tsfknn\", repos = \"http://cran.us.r-project.org\"))"
      ]
    },
    {
      "cell_type": "code",
      "execution_count": null,
      "metadata": {
        "id": "0gYvMTPL2TlP"
      },
      "outputs": [],
      "source": [
        "# Aumentar o tamanho das figuras\n",
        "options(repr.plot.width=16, repr.plot.height=12)"
      ]
    },
    {
      "cell_type": "markdown",
      "metadata": {
        "id": "skTZOPeYxdIf"
      },
      "source": [
        "## Usando o pacote tsoutliers"
      ]
    },
    {
      "cell_type": "code",
      "source": [
        "library(help=\"tsoutliers\")"
      ],
      "metadata": {
        "id": "DKP_F-SW68dr"
      },
      "execution_count": null,
      "outputs": []
    },
    {
      "cell_type": "markdown",
      "source": [
        "Procedimento para detecção automática descrito por [Chen & Liu (1993)](https://www.jstor.org/stable/pdf/2290724.pdf). A representação ARIMA contaminado pode ser escrito como\n",
        "$$y_t=\\sum_{j=1}^m\\omega_j\\nu_j(B)\\mathbb{I}_t(T)+\\frac{\\theta(B)}{\\varphi(B)}Z_t, \\tag1$$\n",
        "\n",
        "onde $omega_j$ representa o impacto da perturbação, $\\mathbb{I}_t(T)$ representa a função de impulso e considera o valor $1$ quando $t=T$ e $0$ em caso contrário.\n",
        "\n",
        "\n",
        "I. **Identificação dos *outliers***: Com um modelo ARIMA ajustado aos dados, os *outliers* são detectados e localizados verificando a significância de todos os tipos de outliers;\n",
        "\n",
        "II. **Removendo os *outliers***: Dado um conjunto de possíveis outliers, um modelo ARIMA é escolhido e ajustado de acordo com a Eq. 1. A significância dos dados atípicos é reavaliada no novo modelo ajustado. Se for usado um procedimento de seleção ARIMA, um novo modelo poderá ser selecionado nesse estágio. **Os outliers que não são significativos são removidos do conjunto de possíveis outliers**."
      ],
      "metadata": {
        "id": "6xvoVSl27EOV"
      }
    },
    {
      "cell_type": "markdown",
      "source": [
        "## Aditivo"
      ],
      "metadata": {
        "id": "YpF6h7xxFSGk"
      }
    },
    {
      "cell_type": "code",
      "source": [
        "n<-1000\n",
        "tc <- rep(0, n)\n",
        "tc[n*0.5] <- 1\n",
        "ao <- filter(tc, filter = 0, method = \"recursive\")\n",
        "plot(ao, main = \"Outlier Aditivo - TC delta = 0\", type = \"l\")"
      ],
      "metadata": {
        "id": "zOujRDtTFOit"
      },
      "execution_count": null,
      "outputs": []
    },
    {
      "cell_type": "markdown",
      "metadata": {
        "id": "zo2zgOA-MU4U"
      },
      "source": [
        "### Mudança transitória\n",
        "\n",
        "\\begin{equation}\n",
        "\\begin{aligned}\n",
        "f_t(T) = \\dfrac{\\omega B}{1 – \\delta B} \\mathbb{I}_{t}(T)\n",
        "\\end{aligned}\n",
        "\\end{equation}"
      ]
    },
    {
      "cell_type": "code",
      "execution_count": null,
      "metadata": {
        "id": "pdJgAlaYI3xi"
      },
      "outputs": [],
      "source": [
        "tc_0_4 <- filter(tc, filter = 0.4, method = \"recursive\")\n",
        "tc_0_8 <- filter(tc, filter = 0.8, method = \"recursive\")\n",
        "plot(tc_0_4[400:600], main = \"TC delta = 0.4\", type = \"l\") # Intervalo [400,600]\n",
        "plot(tc_0_8[400:600], main = \"TC delta = 0.8\", type = \"l\")"
      ]
    },
    {
      "cell_type": "markdown",
      "metadata": {
        "id": "-OgrLmagynu3"
      },
      "source": [
        "### Mudança permanente"
      ]
    },
    {
      "cell_type": "code",
      "execution_count": null,
      "metadata": {
        "id": "au4IGE2dJSvJ"
      },
      "outputs": [],
      "source": [
        "tc <- rep(0, n)\n",
        "tc[n*0.5] <- 1\n",
        "ls <- filter(tc, filter = 1, method = \"recursive\")\n",
        "plot(ls, main = \"Level Shift (Mudança de nivel) - TC delta = 1\", type = \"l\")"
      ]
    },
    {
      "cell_type": "markdown",
      "source": [
        "## Dados artificiais"
      ],
      "metadata": {
        "id": "6AAjWD2mG393"
      }
    },
    {
      "cell_type": "code",
      "execution_count": null,
      "metadata": {
        "id": "cmnuigVEurFY"
      },
      "outputs": [],
      "source": [
        "set.seed(123)\n",
        "n<-120\n",
        "y <- arima.sim(model = list(ar = 0.7, ma = -0.4), n = 120)\n",
        "y[15] <- -4\n",
        "y[45] <- 5\n",
        "y[80:120] <- y[80:120] + 5\n",
        "y <- round(y, 2)"
      ]
    },
    {
      "cell_type": "code",
      "execution_count": null,
      "metadata": {
        "id": "HRFlCejEzLW3"
      },
      "outputs": [],
      "source": [
        "itsmr::plotc(y)"
      ]
    },
    {
      "cell_type": "code",
      "execution_count": null,
      "metadata": {
        "id": "nk87FZgN0hgt"
      },
      "outputs": [],
      "source": [
        "fit <- forecast::auto.arima(x = y, allowdrift = FALSE, ic = \"bic\")\n",
        "pars <- tsoutliers::coefs2poly(fit)\n",
        "resid <- residuals(fit)\n",
        "n <- length(resid)\n",
        "sigma <- 1.483 * quantile(abs(resid - quantile(resid, probs = 0.5)), probs = 0.5)"
      ]
    },
    {
      "cell_type": "code",
      "execution_count": null,
      "metadata": {
        "id": "OW33IspEDwvi"
      },
      "outputs": [],
      "source": [
        "lmtest::coeftest(fit)"
      ]
    },
    {
      "cell_type": "code",
      "execution_count": null,
      "metadata": {
        "id": "e9tdEEs01WoH"
      },
      "outputs": [],
      "source": [
        "outliers_excess_ts <- tsoutliers::tso(y, types = c(\"AO\",\"TC\", \"LS\", \"IO\"), cval = 3., tsmethod = \"arima\", args.tsmethod=(list(order = c(3, 1, 1), seasonal\n",
        "= list(order = c(0, 0, 0)))))\n",
        "outliers_excess_ts"
      ]
    },
    {
      "cell_type": "code",
      "execution_count": null,
      "metadata": {
        "id": "vUFGQI2dUQa8"
      },
      "outputs": [],
      "source": [
        "plot(outliers_excess_ts)"
      ]
    },
    {
      "cell_type": "code",
      "source": [
        "# Dados de vazão do rio Nilo\n",
        "\n",
        "resNile1 <- tsoutliers::tso(y = Nile, types = c(\"AO\", \"LS\", \"TC\"), tsmethod = \"auto.arima\", args.tsmethod = list(allowdrift = FALSE, ic = \"bic\"))\n",
        "resNile1$fit$call$xreg<-NULL\n",
        "resNile1"
      ],
      "metadata": {
        "id": "GO0vtELWBlxl"
      },
      "execution_count": null,
      "outputs": []
    },
    {
      "cell_type": "code",
      "source": [
        "plot(resNile1)"
      ],
      "metadata": {
        "id": "goB2SlVECHl5"
      },
      "execution_count": null,
      "outputs": []
    },
    {
      "cell_type": "code",
      "source": [
        "# Dados de passageiros\n",
        "resAirP <- tsoutliers::tso(y = log(AirPassengers), types = c(\"AO\", \"LS\", \"TC\"), maxit = 1, discard.method = \"bottom-up\", tsmethod = \"arima\",\n",
        "args.tsmethod = list(order = c(0, 1, 1), seasonal = list(order = c(0, 1, 1))))\n",
        "resAirP"
      ],
      "metadata": {
        "id": "eBWzfWSLCSOu"
      },
      "execution_count": null,
      "outputs": []
    },
    {
      "cell_type": "code",
      "source": [
        "plot(resAirP)"
      ],
      "metadata": {
        "id": "uK8SF4zLC1qa"
      },
      "execution_count": null,
      "outputs": []
    },
    {
      "cell_type": "code",
      "source": [
        "data(\"bde9915\")\n",
        "gipi <- log(bde9915$gipi)\n",
        "ce <- calendar.effects(gipi)\n",
        "resGIPI1 <- tsoutliers::tso(y = gipi, xreg = ce, cval = 3.5, types = c(\"AO\", \"LS\", \"TC\", \"SLS\"), maxit = 1, discard.method = \"bottom-up\",\n",
        "tsmethod = \"arima\", args.tsmethod = list(order = c(0, 1, 1), seasonal = list(order = c(0, 1, 1))))\n",
        "resGIPI1"
      ],
      "metadata": {
        "id": "xnN-0kyYDFIY"
      },
      "execution_count": null,
      "outputs": []
    },
    {
      "cell_type": "code",
      "source": [
        "plot(resGIPI1)"
      ],
      "metadata": {
        "id": "pZMzl7DqDNpP"
      },
      "execution_count": null,
      "outputs": []
    },
    {
      "cell_type": "code",
      "source": [
        "resGIPI2 <- tsoutliers::tso(y = gipi, xreg = ce, types = c(\"AO\", \"LS\", \"TC\", \"SLS\"), maxit = 1, discard.method = \"bottom-up\", tsmethod = \"auto.arima\",\n",
        "args.tsmethod = list(allowdrift = FALSE, ic = \"bic\"))\n",
        "resGIPI2"
      ],
      "metadata": {
        "id": "I7BvDRhQDem4"
      },
      "execution_count": null,
      "outputs": []
    },
    {
      "cell_type": "code",
      "source": [
        "plot(resGIPI2)"
      ],
      "metadata": {
        "id": "CmCDhh2jDyS5"
      },
      "execution_count": null,
      "outputs": []
    },
    {
      "cell_type": "code",
      "source": [
        "resGIPI3 <- tso(y = gipi, xreg = ce, cval = 3.5, types = c(\"AO\", \"LS\", \"TC\", \"SLS\"), maxit = 1, discard.method = \"en-masse\",\n",
        "tsmethod = \"arima\", args.tsmethod = list(order = c(0, 1, 1),\n",
        "seasonal = list(order = c(0, 1, 1))))\n",
        "resGIPI3"
      ],
      "metadata": {
        "id": "zEF9HM6HEHxo"
      },
      "execution_count": null,
      "outputs": []
    },
    {
      "cell_type": "code",
      "source": [
        "plot(resGIPI3)"
      ],
      "metadata": {
        "id": "wKGHLZFaDyWx"
      },
      "execution_count": null,
      "outputs": []
    },
    {
      "cell_type": "code",
      "execution_count": null,
      "metadata": {
        "id": "Hf-GxKmvJk6n"
      },
      "outputs": [],
      "source": [
        "url <- \"https://bit.ly/47rGgfe\"\n",
        "abhutondot <- read.csv(url, header=TRUE)\n",
        "\n",
        "boys_ts <- ts(abhutondot$boys, frequency=1, start = abhutondot$year[1])\n",
        "girls_ts <- ts(abhutondot$girls, frequency=1, start = abhutondot$year[1])\n",
        "\n",
        "delta_ts <- boys_ts - girls_ts\n",
        "excess_ts <- delta_ts/girls_ts\n",
        "plot(excess_ts)"
      ]
    },
    {
      "cell_type": "code",
      "execution_count": null,
      "metadata": {
        "id": "gTC-NiU7JS4k"
      },
      "outputs": [],
      "source": [
        "outliers_excess_ts <- tso(excess_ts, types = c(\"TC\", \"AO\", \"LS\", \"IO\", \"SLS\"))\n",
        "outliers_excess_ts"
      ]
    },
    {
      "cell_type": "code",
      "execution_count": null,
      "metadata": {
        "id": "iDKDzwECL11A"
      },
      "outputs": [],
      "source": [
        "plot(outliers_excess_ts)"
      ]
    },
    {
      "cell_type": "code",
      "execution_count": null,
      "metadata": {
        "id": "Yz7ts52xZZMp"
      },
      "outputs": [],
      "source": [
        "outliers_excess_ts$outliers"
      ]
    },
    {
      "cell_type": "code",
      "execution_count": null,
      "metadata": {
        "id": "cAv3T5gZZpAG"
      },
      "outputs": [],
      "source": [
        "# Tamanho de amostra\n",
        "n <- length(excess_ts)\n",
        "outliers_idx <- outliers_excess_ts$outliers$ind\n",
        "mo_tc <- outliers(\"TC\", outliers_idx)\n",
        "tc <- outliers.effects(mo_tc, n)"
      ]
    },
    {
      "cell_type": "code",
      "execution_count": null,
      "metadata": {
        "id": "fgZ5-VRvL6LN"
      },
      "outputs": [],
      "source": [
        "# converting to a number\n",
        "coefhat <- as.numeric(outliers_excess_ts$outliers[\"coefhat\"])\n",
        "\n",
        "# obtaining the transient change data with same magnitude as determined by the tso() function\n",
        "tc_effect <- coefhat*tc\n",
        "\n",
        "# definining a time series for the transient change data\n",
        "tc_effect_ts <- ts(tc_effect, frequency = frequency(excess_ts), start = start(excess_ts))\n",
        "\n",
        "# subtracting the transient change intervention to the original time series, obtaining the pre-intervention time series\n",
        "excess_wo_ts <- excess_ts - tc_effect_ts\n",
        "\n",
        "# plot of the original, the pre-intervention and transient change time series\n",
        "plot(cbind(excess_ts, excess_wo_ts, tc_effect_ts))"
      ]
    },
    {
      "cell_type": "code",
      "execution_count": null,
      "metadata": {
        "id": "xPgrEr2bapYu"
      },
      "outputs": [],
      "source": [
        "plot(excess_ts, type ='l', col='blue')\n",
        "lines(excess_wo_ts, col = 'red', lty = 3, type ='l')"
      ]
    },
    {
      "cell_type": "code",
      "execution_count": null,
      "metadata": {
        "id": "WMHWaBmpaa9N"
      },
      "outputs": [],
      "source": [
        "sarima(excess_wo_ts, p=0, d=0, q=0)"
      ]
    }
  ],
  "metadata": {
    "colab": {
      "provenance": []
    },
    "kernelspec": {
      "display_name": "R",
      "name": "ir"
    },
    "language_info": {
      "name": "R"
    }
  },
  "nbformat": 4,
  "nbformat_minor": 0
}