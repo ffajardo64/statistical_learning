{
  "nbformat": 4,
  "nbformat_minor": 0,
  "metadata": {
    "colab": {
      "provenance": []
    },
    "kernelspec": {
      "name": "python3",
      "display_name": "Python 3"
    },
    "language_info": {
      "name": "python"
    }
  },
  "cells": [
    {
      "cell_type": "code",
      "execution_count": null,
      "metadata": {
        "id": "_bH0pajSlvW4"
      },
      "outputs": [],
      "source": [
        "import pandas as pd\n",
        "import numpy as np\n",
        "import matplotlib.pyplot as plt\n",
        "\n",
        "from sklearn import datasets\n",
        "from sklearn.model_selection import train_test_split\n",
        "\n",
        "# Pre-processamento\n",
        "from sklearn.preprocessing import StandardScaler\n",
        "from sklearn.preprocessing import LabelEncoder\n",
        "from sklearn.preprocessing import MinMaxScaler\n",
        "\n",
        "# Classificadores\n",
        "from sklearn.svm import SVC\n",
        "from sklearn.neighbors import KNeighborsClassifier\n",
        "from sklearn.naive_bayes import GaussianNB\n",
        "from xgboost import XGBClassifier\n",
        "\n",
        "# Metricas\n",
        "from sklearn.metrics import confusion_matrix\n",
        "from sklearn.metrics import precision_score, recall_score, f1_score, accuracy_score,fbeta_score, roc_auc_score, roc_curve\n",
        "from sklearn.metrics import classification_report\n",
        "from sklearn.linear_model import LogisticRegression"
      ]
    },
    {
      "cell_type": "code",
      "source": [
        "# ----------------------------\n",
        "# 1. Dados de câncer de mama\n",
        "# ----------------------------\n",
        "bc = datasets.load_breast_cancer()\n",
        "X = bc.data\n",
        "y = bc.target"
      ],
      "metadata": {
        "id": "knM26RePWlnu"
      },
      "execution_count": null,
      "outputs": []
    },
    {
      "cell_type": "code",
      "source": [
        "# ----------------------------------------\n",
        "# Data splitting: Dados de treino e teste\n",
        "# ----------------------------------------\n",
        "\n",
        "X_train, X_test, y_train, y_test = train_test_split(X, y, test_size=0.30, random_state=1, stratify=y)\n",
        "\n",
        "sc = StandardScaler()\n",
        "sc.fit(X_train)\n",
        "X_train_std = sc.transform(X_train)\n",
        "X_test_std = sc.transform(X_test)"
      ],
      "metadata": {
        "id": "p4W1bwkOl7KD"
      },
      "execution_count": null,
      "outputs": []
    },
    {
      "cell_type": "markdown",
      "source": [
        "# Modelo SVC\n",
        " O SVC (Support Vector Classification) é um algoritmo de aprendizado de máquina utilizado principalmente para problemas de classificação. É uma variação do SVM tradicional que usa uma função de base radial (`kernel=rbf`) como kernel para mapear os dados em um espaço de características de alta dimensão.\n",
        "\n",
        " A função de base radial, também conhecida como **função gaussiana**, é uma função que depende da distância entre um ponto de dados e um centro. Essa função atribui um peso decrescente aos pontos de dados à medida que se afastam do centro. O parâmetro gamma ($\\gamma$) controla a largura da função gaussiana e afeta a suavidade da separação entre as classes.\n",
        "\n",
        "É um algoritmo muito bom, mas é importante ajustar adequadamente os parâmetros, como $C$ (parâmetro de regularização) e $\\gamma$ (parâmetro de largura da função gaussiana), para obter um desempenho ideal."
      ],
      "metadata": {
        "id": "60JTHWBkiq3r"
      }
    },
    {
      "cell_type": "code",
      "source": [
        "# ------------------------------------------------------\n",
        "# Ajuste do modelo SVC (Support Vector Classification)\n",
        "# ------------------------------------------------------\n",
        "\n",
        "svc = SVC(kernel='linear', C=10.0, random_state=None)\n",
        "svc.fit(X_train, y_train)\n",
        "\n",
        "# -------------------------\n",
        "# Calculando as previsões\n",
        "# -------------------------\n",
        "y_pred = svc.predict(X_test)"
      ],
      "metadata": {
        "id": "xGKeoW3HioO8"
      },
      "execution_count": null,
      "outputs": []
    },
    {
      "cell_type": "code",
      "source": [
        "help(SVC)"
      ],
      "metadata": {
        "id": "UoNN-WodcLX8"
      },
      "execution_count": null,
      "outputs": []
    },
    {
      "cell_type": "code",
      "source": [
        "# ----------------------------------\n",
        "# Calculando a matriz de confusão\n",
        "# ----------------------------------\n",
        "conf_matrix = confusion_matrix(y_true=y_test, y_pred=y_pred)\n",
        "\n",
        "# ---------------------------------\n",
        "# Graficando a matriz de confusão\n",
        "# ---------------------------------\n",
        "fig, ax = plt.subplots(figsize=(5, 5))\n",
        "ax.matshow(conf_matrix, cmap=plt.cm.Blues, alpha=0.3)\n",
        "for i in range(conf_matrix.shape[0]):\n",
        "    for j in range(conf_matrix.shape[1]):\n",
        "        ax.text(x=j, y=i,s=conf_matrix[i, j], va='center', ha='center', size='xx-large')\n",
        "\n",
        "plt.xlabel('Predição', fontsize=18)\n",
        "plt.ylabel('Real', fontsize=18)\n",
        "plt.title('Matriz de confusão', fontsize=18)\n",
        "plt.show()"
      ],
      "metadata": {
        "id": "wbN_XpGQWZOP"
      },
      "execution_count": null,
      "outputs": []
    },
    {
      "cell_type": "code",
      "source": [
        "print('Acurácia: %.3f' % accuracy_score(y_test, y_pred))"
      ],
      "metadata": {
        "id": "aA0gi9cumSKG"
      },
      "execution_count": null,
      "outputs": []
    },
    {
      "cell_type": "code",
      "source": [
        "print('Precisão: %.3f' % precision_score(y_test, y_pred))"
      ],
      "metadata": {
        "id": "XMSSILJJmMB4"
      },
      "execution_count": null,
      "outputs": []
    },
    {
      "cell_type": "code",
      "source": [
        "print('Recall: %.3f' % recall_score(y_test, y_pred))"
      ],
      "metadata": {
        "id": "MUBAslEFmO-l"
      },
      "execution_count": null,
      "outputs": []
    },
    {
      "cell_type": "code",
      "source": [
        "print('F1-Score: %.3f' % f1_score(y_test, y_pred))"
      ],
      "metadata": {
        "id": "tTSBA0K3mbUd"
      },
      "execution_count": null,
      "outputs": []
    },
    {
      "cell_type": "code",
      "source": [
        "#\n",
        "# 2. Credit Card Default Dataset\n",
        "# Dados disponíveis em https://r-data.pmagunia.com/system/files/datasets/dataset-63314.csv\n",
        "# ou https://r-data.pmagunia.com/dataset/r-dataset-package-islr-default\n",
        "#\n",
        "# O conjunto de dados contém informações de débito de cartão de crédito para\n",
        "# 10000 usuários e possui as seguintes colunas:\n",
        "# > default (inadimplência): indica se o consumidor está inadimplente com a\n",
        "#   dívida (0 - não inadimplente, 1 - inadimplente);\n",
        "# > student (aluno): indica se o consumidor é aluno (0 - Não, 1 - Sim);\n",
        "# > balance (saldo): saldo do cartão de crédito do usuário;\n",
        "# > income (renda): renda anual do consumidor.\n",
        "\n",
        "dataset = pd.read_csv('/content/Dataset.csv')\n",
        "dataset = dataset.replace(to_replace=['No','Yes'],value=[0,1])\n",
        "dataset.info()"
      ],
      "metadata": {
        "id": "21DJLVSIlqt-"
      },
      "execution_count": null,
      "outputs": []
    },
    {
      "cell_type": "code",
      "source": [
        "dataset['default'].value_counts()"
      ],
      "metadata": {
        "id": "cBGf_9W9m6qX"
      },
      "execution_count": null,
      "outputs": []
    },
    {
      "cell_type": "code",
      "source": [
        "# Agrupando dados para criar X\n",
        "X = dataset.drop(columns='default')\n",
        "\n",
        "# Criando variável y com dados da coluna 'default'\n",
        "y = dataset['default']"
      ],
      "metadata": {
        "id": "t9k3Tmp0nB5F"
      },
      "execution_count": null,
      "outputs": []
    },
    {
      "cell_type": "code",
      "source": [
        "# ---------------------------------\n",
        "# Modelo 1\n",
        "# ---------------------------------\n",
        "\n",
        "# Divisão do conjunto de dados\n",
        "X_train, X_test, y_train, y_test = train_test_split(X, y, test_size=0.3)\n",
        "\n",
        "# O parâmetro 'liblinear' trabalha bem com dados não-dimensionados\n",
        "model = LogisticRegression(solver='liblinear')\n",
        "#\n",
        "# Ajuste do modelo\n",
        "#\n",
        "model.fit(X_train, y_train)\n",
        "\n",
        "# Calculando as previsões\n",
        "y_test_predictions = model.predict(X_test)\n",
        "\n",
        "# Calculando a matriz de confusão\n",
        "conf_matrix = confusion_matrix(y_test, y_test_predictions)\n",
        "conf_matrix"
      ],
      "metadata": {
        "id": "13LKtJcUoDqu"
      },
      "execution_count": null,
      "outputs": []
    },
    {
      "cell_type": "code",
      "source": [
        "# ---------------------------------\n",
        "# Graficando a matriz de confusão\n",
        "# ---------------------------------\n",
        "fig, ax = plt.subplots(figsize=(5, 5))\n",
        "ax.matshow(conf_matrix, cmap=plt.cm.Blues, alpha=0.3)\n",
        "for i in range(conf_matrix.shape[0]):\n",
        "    for j in range(conf_matrix.shape[1]):\n",
        "        ax.text(x=j, y=i,s=conf_matrix[i, j], va='center', ha='center', size='xx-large')\n",
        "\n",
        "plt.xlabel('Predição', fontsize=18)\n",
        "plt.ylabel('Real', fontsize=18)\n",
        "plt.title('Matriz de confusão', fontsize=18)\n",
        "plt.show()"
      ],
      "metadata": {
        "id": "VaHzSWtlt5pK"
      },
      "execution_count": null,
      "outputs": []
    },
    {
      "cell_type": "code",
      "source": [
        "#\n",
        "# Calculando as métricas para verificar desempenho do modelo\n",
        "#\n",
        "print('Acurácia: %.3f' % accuracy_score(y_test, y_test_predictions))\n",
        "print('Precisão: %.3f' % precision_score(y_test, y_test_predictions))\n",
        "print('Recall: %.3f' % recall_score(y_test, y_test_predictions))\n",
        "print('F1-Score: %.3f' % f1_score(y_test, y_test_predictions))"
      ],
      "metadata": {
        "id": "pLb4OR-rv3by"
      },
      "execution_count": null,
      "outputs": []
    },
    {
      "cell_type": "code",
      "source": [
        "#\n",
        "# Modelo 2\n",
        "#\n",
        "model = LogisticRegression(solver='liblinear',class_weight='balanced')\n",
        "#\n",
        "# Ajuste do modelo\n",
        "#\n",
        "model.fit(X_train, y_train)\n",
        "\n",
        "# Calculando as previsões\n",
        "y_test_predictions = model.predict(X_test)\n",
        "\n",
        "# Calculando a matriz de confusão\n",
        "conf_matrix = confusion_matrix(y_test, y_test_predictions)\n",
        "conf_matrix"
      ],
      "metadata": {
        "id": "k5kZZZfnvyGs"
      },
      "execution_count": null,
      "outputs": []
    },
    {
      "cell_type": "code",
      "source": [
        "# ---------------------------------\n",
        "# Graficando a matriz de confusão\n",
        "# ---------------------------------\n",
        "fig, ax = plt.subplots(figsize=(5, 5))\n",
        "ax.matshow(conf_matrix, cmap=plt.cm.Blues, alpha=0.3)\n",
        "for i in range(conf_matrix.shape[0]):\n",
        "    for j in range(conf_matrix.shape[1]):\n",
        "        ax.text(x=j, y=i,s=conf_matrix[i, j], va='center', ha='center', size='xx-large')\n",
        "\n",
        "plt.xlabel('Predição', fontsize=18)\n",
        "plt.ylabel('Real', fontsize=18)\n",
        "plt.title('Matriz de confusão', fontsize=18)\n",
        "plt.show()"
      ],
      "metadata": {
        "id": "O1dCQOKNwX1r"
      },
      "execution_count": null,
      "outputs": []
    },
    {
      "cell_type": "code",
      "source": [
        "#\n",
        "# Métricas\n",
        "#\n",
        "print('Acurácia: %.3f' % accuracy_score(y_test, y_test_predictions))\n",
        "print('Precisão: %.3f' % precision_score(y_test, y_test_predictions))\n",
        "print('Recall: %.3f' % recall_score(y_test, y_test_predictions))\n",
        "print('F1-Score: %.3f' % f1_score(y_test, y_test_predictions))\n",
        "print('Fbeta-Score: %.3f' % fbeta_score(y_test, y_test_predictions,beta=2))\n",
        "print('ROC AUC: %.3f' % roc_auc_score(y_test, y_test_predictions))"
      ],
      "metadata": {
        "id": "o4HVWxxTwa6x"
      },
      "execution_count": null,
      "outputs": []
    },
    {
      "cell_type": "code",
      "source": [
        "print(classification_report(y_test, y_test_predictions, target_names=None))"
      ],
      "metadata": {
        "id": "wFa8OxpmxQn-"
      },
      "execution_count": null,
      "outputs": []
    },
    {
      "cell_type": "code",
      "source": [
        "#\n",
        "# 3. Social Network Ads\n",
        "#\n",
        "# O conjunto de dados contém informações sobre compras de anúncios em redes\n",
        "# sociais para 400 usuários e possui as seguintes colunas:\n",
        "# > User ID: Id do usuário\n",
        "# >\tGender: Género do usuário\n",
        "# >\tAge: Idadde do usuário\n",
        "# > EstimatedSalary: Salário estimado do usuário\n",
        "# > Purchased: Comprou\n",
        "# A variável de interesse é se o cliente comprou\n",
        "# ou não comprou um determinado produto (0 - Não, 1 - Sim).\n",
        "# O conjunto de dados e suas as informações estão disponíveis em https://www.kaggle.com/rakeshrau/social-network-ads.\n",
        "\n",
        "df = pd.read_csv('/content/Social_Network_Ads.csv')\n",
        "df.info()\n",
        "df.head(5)"
      ],
      "metadata": {
        "id": "DodaQ87g7P4Z"
      },
      "execution_count": null,
      "outputs": []
    },
    {
      "cell_type": "code",
      "source": [
        "# Porcentagem de usuários que compraram e não-comparam o anúncio\n",
        "df['Purchased'].value_counts()/df['Purchased'].count()*100"
      ],
      "metadata": {
        "id": "ThA1_1v1AJxf"
      },
      "execution_count": null,
      "outputs": []
    },
    {
      "cell_type": "code",
      "source": [
        "df['Purchased'].value_counts()"
      ],
      "metadata": {
        "id": "xHairJFG8_zs"
      },
      "execution_count": null,
      "outputs": []
    },
    {
      "cell_type": "code",
      "source": [
        "# Agrupando dados para criar X\n",
        "X = df.drop(columns=['User ID','Purchased', 'Gender'])\n",
        "\n",
        "# Criando variável y com dados da coluna 'default'\n",
        "y = df['Purchased']"
      ],
      "metadata": {
        "id": "ffTuI3qKBPYu"
      },
      "execution_count": null,
      "outputs": []
    },
    {
      "cell_type": "code",
      "source": [
        "# Padronizando as variáveis\n",
        "\n",
        "X = MinMaxScaler().fit_transform(X)"
      ],
      "metadata": {
        "id": "Uk-tQKzEBvdy"
      },
      "execution_count": null,
      "outputs": []
    },
    {
      "cell_type": "code",
      "source": [
        "x_treino, x_teste, y_treino,y_teste  = train_test_split(X, y, test_size = 0.25,random_state = 1)"
      ],
      "metadata": {
        "id": "gjI_wCQAC0rg"
      },
      "execution_count": null,
      "outputs": []
    },
    {
      "cell_type": "code",
      "source": [
        "#\n",
        "# Modelo 1. KNN\n",
        "#\n",
        "\n",
        "knn = KNeighborsClassifier()\n",
        "knn.fit(x_treino, y_treino)"
      ],
      "metadata": {
        "id": "fPS5qhonC0uX"
      },
      "execution_count": null,
      "outputs": []
    },
    {
      "cell_type": "code",
      "source": [
        "#Calculando a matriz de confusão\n",
        "y_pred_knn = knn.predict(x_teste)\n",
        "\n",
        "conf_matrix = confusion_matrix(y_teste, y_pred_knn)\n",
        "conf_matrix"
      ],
      "metadata": {
        "id": "rgI-fNEvC0xO"
      },
      "execution_count": null,
      "outputs": []
    },
    {
      "cell_type": "code",
      "source": [
        "# ---------------------------------\n",
        "# Graficando a matriz de confusão\n",
        "# ---------------------------------\n",
        "fig, ax = plt.subplots(figsize=(5, 5))\n",
        "ax.matshow(conf_matrix, cmap=plt.cm.Blues, alpha=0.3)\n",
        "for i in range(conf_matrix.shape[0]):\n",
        "    for j in range(conf_matrix.shape[1]):\n",
        "        ax.text(x=j, y=i,s=conf_matrix[i, j], va='center', ha='center', size='xx-large')\n",
        "\n",
        "plt.xlabel('Predição', fontsize=18)\n",
        "plt.ylabel('Real', fontsize=18)\n",
        "plt.title('Matriz de confusão', fontsize=18)\n",
        "plt.show()"
      ],
      "metadata": {
        "id": "Dq_MCG07Fkpv"
      },
      "execution_count": null,
      "outputs": []
    },
    {
      "cell_type": "markdown",
      "source": [
        "Da matriz de confusão podemos extrair algumas métricas:\n",
        "\n",
        "* **VP** (Verdadeiros Positivos): Aqueles que compraram e foram classificados como compradores, $38$;\n",
        "* **VN** ( Verdadeiros Negativos): Aqueles que não compraram e foram classificados como não compradores, $50$;\n",
        "* **FP** (Falso Positivos): Aqueles que não compraram e foram classificados como compradores, $8$;\n",
        "* **FN** (Falso Negativo): Aqueles que compraram e foram classificados como não compradores, $4$."
      ],
      "metadata": {
        "id": "ChiLsfbQJExx"
      }
    },
    {
      "cell_type": "markdown",
      "source": [],
      "metadata": {
        "id": "Sgnd_wZ1KbH4"
      }
    },
    {
      "cell_type": "markdown",
      "source": [
        "**Valor preditivo positivo**  $VPP = \\frac{VP}{VP+FP}$: Indica qual a probabilidade de uma pessoa classificada como compradora, tenha realmente comprado;\n",
        "\n",
        "**Valor preditivo negativo**  $VPN=\\frac{VN}{VN+FN}$: Indica qual a probabilidade de uma pessoa classificada como não compradora, tenha realmente não comprado;\n",
        "\n",
        "**Acurácia** $A=\\frac{VN+VP}{VP+FN+VN+FP}$: é a média global do acerto do modelo ao classificar as classes, pode ser calculada através da razão;\n",
        "\n",
        "**Recall** $Recall=\\frac{VP}{VP+FN}$: Indica entre todos os compradores, quantos realmente o modelo conseguiu prever como comprador.\n",
        "\n",
        "**F1-score** $F_1=2\\times\\frac{VPP\\times Recall}{VPP+Recall}$: Indica média harmônica entre o Recall e Precision"
      ],
      "metadata": {
        "id": "jpWn5JlvKbJq"
      }
    },
    {
      "cell_type": "code",
      "source": [
        "#\n",
        "# Métricas\n",
        "#\n",
        "print('Acurácia: %.3f' % accuracy_score(y_teste, y_pred_knn))\n",
        "print('Precisão: %.3f' % precision_score(y_teste, y_pred_knn))\n",
        "print('Recall: %.3f' % recall_score(y_teste, y_pred_knn))\n",
        "print('F1-Score: %.3f' % f1_score(y_teste, y_pred_knn))\n",
        "print('Fbeta-Score: %.3f' % fbeta_score(y_teste, y_pred_knn,beta=2))\n",
        "print('ROC AUC: %.3f' % roc_auc_score(y_teste, y_pred_knn))"
      ],
      "metadata": {
        "id": "OhbSTaYWGLvy"
      },
      "execution_count": null,
      "outputs": []
    },
    {
      "cell_type": "code",
      "source": [
        "print(classification_report(y_teste, y_pred_knn, target_names=None))"
      ],
      "metadata": {
        "id": "w-UoJ8RHGfRY"
      },
      "execution_count": null,
      "outputs": []
    },
    {
      "cell_type": "markdown",
      "source": [
        "# Curva ROC (receiver operator characteristic curve)\n",
        "Para construir uma curva ROC traça-se um diagrama que represente a sensibilidade (Taxa de verdadeiros positivos) em função da proporção de falsos positivos (1- Especificidade) para um conjunto de valores.\n",
        "\n",
        "\n",
        "**Sensibilidade**$=\\frac{VP}{VP+FN}$: A sensibilidade mostra a proporção dos classificados como compradores em relação ao total de compradores.\n",
        "\n",
        "**Especificidade**$=\\frac{VN}{VN+FP}$: A sensibilidade mostra a proporção dos classificados como não compradores em relação ao total de não compradores.\n",
        "\n",
        "\n",
        "> A AUC é área sob a curva ROC, quando maior a área sob a curva maior a AUC.\n",
        "\n",
        "> Uma vantagem da curva ROC, é a possibilidade de escolher o ponto de corte que otimiza o desempenho do modelo."
      ],
      "metadata": {
        "id": "gVHrLmpsHt1F"
      }
    },
    {
      "cell_type": "code",
      "source": [
        "#\n",
        "# Graficando a curva ROC\n",
        "#\n",
        "# Estimando as probabilidades\n",
        "\n",
        "knn_prob = knn.predict_proba(x_teste)\n",
        "probs = knn_prob[:, 1]\n",
        "rfp, rvp,lim = roc_curve(y_teste, probs)\n",
        "\n",
        "# gráfico da curva roc\n",
        "plt.plot(rfp, rvp, marker='.', label='KNN',color=\"red\")\n",
        "plt.plot([0, 1], [0, 1], color='darkblue', linestyle='--')\n",
        "\n",
        "# axis labels\n",
        "plt.xlabel('1 - Especificidade')\n",
        "plt.ylabel('Sensibilidade')\n",
        "plt.legend()\n",
        "plt.show()\n",
        "\n",
        "print('ROC AUC: %.6f' % roc_auc_score(y_teste, y_pred_knn))"
      ],
      "metadata": {
        "id": "nftrx4GIGpm4"
      },
      "execution_count": null,
      "outputs": []
    },
    {
      "cell_type": "code",
      "source": [
        "#\n",
        "# Modelo 2. Logistica\n",
        "#\n",
        "df = pd.read_csv('/content/Social_Network_Ads.csv')\n",
        "\n",
        "# Agrupando dados para criar X\n",
        "X = df.drop(columns=['User ID','Purchased', 'Gender'])\n",
        "\n",
        "# Criando variável y com dados da coluna 'default'\n",
        "y = df['Purchased']\n",
        "\n",
        "X_treino, X_teste, y_treino, y_teste = train_test_split(X, y, test_size = 0.25, random_state = 0)"
      ],
      "metadata": {
        "id": "b12Kdqq2N_zJ"
      },
      "execution_count": null,
      "outputs": []
    },
    {
      "cell_type": "code",
      "source": [
        "logistica = LogisticRegression(random_state = 0)\n",
        "logistica.fit(X_treino, y_treino)"
      ],
      "metadata": {
        "id": "pOUuu4JVOivV"
      },
      "execution_count": null,
      "outputs": []
    },
    {
      "cell_type": "code",
      "source": [
        "y_pred_log = logistica.predict(X_teste)\n",
        "conf_matrix = confusion_matrix(y_teste, y_pred_log)\n",
        "conf_matrix"
      ],
      "metadata": {
        "id": "MPIox6JbOmXq"
      },
      "execution_count": null,
      "outputs": []
    },
    {
      "cell_type": "code",
      "source": [
        "# ---------------------------------\n",
        "# Graficando a matriz de confusão\n",
        "# ---------------------------------\n",
        "fig, ax = plt.subplots(figsize=(5, 5))\n",
        "ax.matshow(conf_matrix, cmap=plt.cm.Blues, alpha=0.3)\n",
        "for i in range(conf_matrix.shape[0]):\n",
        "    for j in range(conf_matrix.shape[1]):\n",
        "        ax.text(x=j, y=i,s=conf_matrix[i, j], va='center', ha='center', size='xx-large')\n",
        "\n",
        "plt.xlabel('Predição', fontsize=18)\n",
        "plt.ylabel('Real', fontsize=18)\n",
        "plt.title('Matriz de confusão', fontsize=18)\n",
        "plt.show()"
      ],
      "metadata": {
        "id": "dzZv0GkxOmaW"
      },
      "execution_count": null,
      "outputs": []
    },
    {
      "cell_type": "code",
      "source": [
        "print(classification_report(y_teste, y_pred_log_scaled, target_names=None))"
      ],
      "metadata": {
        "id": "xa0vyvRmSI9O"
      },
      "execution_count": null,
      "outputs": []
    },
    {
      "cell_type": "code",
      "source": [
        "# Após dimensionamento\n",
        "\n",
        "sc = StandardScaler()\n",
        "X_treino_scaled = sc.fit_transform(X_treino)\n",
        "X_teste_scaled  = sc.transform(X_teste)\n",
        "\n",
        "logistica_scaled = LogisticRegression(random_state = 0)\n",
        "logistica_scaled.fit(X_treino_scaled, y_treino)"
      ],
      "metadata": {
        "id": "sM_RyIrIOmdW"
      },
      "execution_count": null,
      "outputs": []
    },
    {
      "cell_type": "code",
      "source": [
        "y_pred_log_scaled = logistica_scaled.predict(X_teste_scaled)\n",
        "conf_matrix = confusion_matrix(y_teste, y_pred_log_scaled)\n",
        "conf_matrix"
      ],
      "metadata": {
        "id": "NIODrrU1Omfd"
      },
      "execution_count": null,
      "outputs": []
    },
    {
      "cell_type": "code",
      "source": [
        "# ---------------------------------\n",
        "# Graficando a matriz de confusão\n",
        "# ---------------------------------\n",
        "fig, ax = plt.subplots(figsize=(5, 5))\n",
        "ax.matshow(conf_matrix, cmap=plt.cm.Blues, alpha=0.3)\n",
        "for i in range(conf_matrix.shape[0]):\n",
        "    for j in range(conf_matrix.shape[1]):\n",
        "        ax.text(x=j, y=i,s=conf_matrix[i, j], va='center', ha='center', size='xx-large')\n",
        "\n",
        "plt.xlabel('Predição', fontsize=18)\n",
        "plt.ylabel('Real', fontsize=18)\n",
        "plt.title('Matriz de confusão', fontsize=18)\n",
        "plt.show()"
      ],
      "metadata": {
        "id": "9bB3nDR3RtI1"
      },
      "execution_count": null,
      "outputs": []
    },
    {
      "cell_type": "code",
      "source": [
        "print(classification_report(y_teste, y_pred_log_scaled, target_names=None))"
      ],
      "metadata": {
        "id": "87P2rKZ4R3TP"
      },
      "execution_count": null,
      "outputs": []
    },
    {
      "cell_type": "code",
      "source": [
        "#\n",
        "# Modelo 3. SVM\n",
        "#\n",
        "\n",
        "svm = SVC(kernel = 'linear', random_state = 0)\n",
        "svm.fit(X_treino_scaled, y_treino)\n"
      ],
      "metadata": {
        "id": "DI30TrxvRtMW"
      },
      "execution_count": null,
      "outputs": []
    },
    {
      "cell_type": "code",
      "source": [
        "y_pred_svm = svm.predict(X_teste_scaled)\n",
        "conf_matrix = confusion_matrix(y_teste, y_pred_svm)\n",
        "conf_matrix"
      ],
      "metadata": {
        "id": "4kY9XYnOStgA"
      },
      "execution_count": null,
      "outputs": []
    },
    {
      "cell_type": "code",
      "source": [
        "print(classification_report(y_teste, y_pred_svm, target_names=None))"
      ],
      "metadata": {
        "id": "-JhSs2C_S-dA"
      },
      "execution_count": null,
      "outputs": []
    },
    {
      "cell_type": "code",
      "source": [
        "#\n",
        "# Modelo 4. Neive Bayes\n",
        "#\n",
        "\n",
        "NB = GaussianNB()\n",
        "NB.fit(X_treino_scaled, y_treino)\n",
        "\n",
        "y_pred_NB = NB.predict(X_teste_scaled)\n",
        "conf_matrix = confusion_matrix(y_teste, y_pred_NB)\n",
        "conf_matrix"
      ],
      "metadata": {
        "id": "z0b31JmzTRvB"
      },
      "execution_count": null,
      "outputs": []
    },
    {
      "cell_type": "code",
      "source": [
        "print(classification_report(y_teste, y_pred_NB, target_names=None))"
      ],
      "metadata": {
        "id": "vaaAK-tiTrcq"
      },
      "execution_count": null,
      "outputs": []
    },
    {
      "cell_type": "code",
      "source": [
        "#\n",
        "# Modelo 5. XGBoost\n",
        "#"
      ],
      "metadata": {
        "id": "qT0Fs-pAUfmv"
      },
      "execution_count": null,
      "outputs": []
    },
    {
      "cell_type": "code",
      "source": [
        "xgboost = XGBClassifier(eval_metric='mlogloss')"
      ],
      "metadata": {
        "id": "a5vtd_2UUfqB"
      },
      "execution_count": null,
      "outputs": []
    },
    {
      "cell_type": "code",
      "source": [
        "xgboost.fit(X_treino_scaled, y_treino)\n",
        "\n",
        "y_pred_xgboost = xgboost.predict(X_teste_scaled)\n",
        "\n",
        "print(classification_report(y_teste, y_pred_xgboost, target_names=None))"
      ],
      "metadata": {
        "id": "IvBmBUXiUfvv"
      },
      "execution_count": null,
      "outputs": []
    }
  ]
}