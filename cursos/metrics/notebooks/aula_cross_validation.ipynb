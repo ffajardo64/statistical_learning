{
 "cells": [
  {
   "cell_type": "code",
   "execution_count": null,
   "id": "a876f030",
   "metadata": {},
   "outputs": [],
   "source": [
    "import warnings\n",
    "warnings.filterwarnings('ignore')\n",
    "\n",
    "import pandas as pd\n",
    "import numpy as np\n",
    "from math import log\n",
    "import matplotlib.pyplot as plt\n",
    "from scipy.special import rel_entr\n",
    "\n",
    "from sklearn import datasets\n",
    "from sklearn.datasets import make_regression\n",
    "\n",
    "# Pre-processamento\n",
    "from sklearn.model_selection import train_test_split\n",
    "from sklearn.preprocessing import StandardScaler\n",
    "from sklearn.preprocessing import LabelEncoder\n",
    "from sklearn.preprocessing import MinMaxScaler\n",
    "from sklearn.neural_network import MLPClassifier\n",
    "\n",
    "# Classificadores\n",
    "from sklearn.svm import SVC\n",
    "from sklearn.neighbors import KNeighborsClassifier\n",
    "from sklearn.naive_bayes import GaussianNB\n",
    "from sklearn.ensemble import RandomForestClassifier\n",
    "\n",
    "# Modelos\n",
    "from sklearn.linear_model import LinearRegression\n",
    "from sklearn.linear_model import ElasticNet\n",
    "from sklearn.linear_model import Ridge\n",
    "from sklearn.linear_model import Lasso\n",
    "from sklearn.linear_model import LogisticRegression\n",
    "\n",
    "# Metricas\n",
    "# Outras métricas https://scikit-learn.org/stable/modules/classes.html#module-sklearn.metrics\n",
    "#\n",
    "from sklearn.metrics import mean_squared_error\n",
    "from sklearn.metrics import confusion_matrix\n",
    "from sklearn.metrics import precision_score, recall_score, f1_score, accuracy_score,fbeta_score, roc_auc_score, roc_curve\n",
    "from sklearn.metrics import classification_report\n",
    "from sklearn.model_selection import cross_val_score\n",
    "from sklearn.model_selection import cross_validate\n",
    "from sklearn.model_selection import KFold\n",
    "from sklearn.metrics import ConfusionMatrixDisplay"
   ]
  },
  {
   "cell_type": "markdown",
   "id": "206b5823",
   "metadata": {},
   "source": [
    "# [Exemplo](https://acervolima.com/divergencia-kullback-leibler/)\n",
    "\n",
    "Imagine duas urnas que contém 4 tipos de bolas (verde, azul, vermelha, amarela). Uma bola é retirada aleatoriamente de uma das urnas com as probabilidades fornecidas. O objetivo é calcular a diferença de distribuições de duas urnas."
   ]
  },
  {
   "cell_type": "code",
   "execution_count": null,
   "id": "ea0870bf",
   "metadata": {},
   "outputs": [],
   "source": [
    "# box =[P(verde),P(Azul),P(Vermelha),P(Amarela)]\n",
    "urna_1 = [0.25, 0.33, 0.23, 0.19]\n",
    "urna_2 = [0.21, 0.21, 0.32, 0.26]\n",
    "  \n",
    "\n",
    "#----------------------------------------------\n",
    "# Usando a função rel_entr do pacote Scipy\n",
    "#----------------------------------------------\n",
    "\n",
    "box_1 = np.array(box_1)\n",
    "box_2 = np.array(box_2)\n",
    "  \n",
    "print('Divergência_KL(urna_1 || urna_2): %.3f' % sum(rel_entr(urna_1,urna_2)))\n",
    "print('Divergência_KL(urna_2 || urna_1): %.3f' % sum(rel_entr(urna_2,urna_1)))\n",
    "print('Divergência_KL(urna_1 || urna_1): %.3f' % sum(rel_entr(urna_1,urna_1)))\n"
   ]
  },
  {
   "cell_type": "code",
   "execution_count": null,
   "id": "0d271170",
   "metadata": {},
   "outputs": [],
   "source": [
    "# import sys\n",
    "# !{sys.executable} -m pip install matplotlib"
   ]
  },
  {
   "cell_type": "code",
   "execution_count": null,
   "id": "45d90d48",
   "metadata": {},
   "outputs": [],
   "source": [
    "# ---------------------------------\n",
    "# Exemplo com dados artificiais\n",
    "# ---------------------------------\n",
    "\n",
    "# calculando o AIC\n",
    "def calculate_aic(n, mse, num_params):\n",
    " aic = n * log(mse) + 2 * num_params\n",
    " return aic\n",
    "\n",
    "# calculando o BIC\n",
    "def calculate_bic(n, mse, num_params):\n",
    " bic = n * log(mse) + num_params * log(n)\n",
    " return bic\n",
    "\n",
    "# Gerando valores para uma regressão\n",
    "X, y = make_regression(n_samples=100, n_features=2, noise=0.1)"
   ]
  },
  {
   "cell_type": "code",
   "execution_count": null,
   "id": "c71192c9",
   "metadata": {},
   "outputs": [],
   "source": [
    "# define and fit the model on all data\n",
    "model = LinearRegression()\n",
    "model.fit(X, y)"
   ]
  },
  {
   "cell_type": "code",
   "execution_count": null,
   "id": "d33f4e1c",
   "metadata": {},
   "outputs": [],
   "source": [
    "# numbero de parametros\n",
    "num_params = len(model.coef_) + 1\n",
    "print('Número de parametros: %d' % (num_params))"
   ]
  },
  {
   "cell_type": "code",
   "execution_count": null,
   "id": "2d6afc49",
   "metadata": {},
   "outputs": [],
   "source": [
    "# ------------------------------\n",
    "# Calculando valores ajustados\n",
    "yhat = model.predict(X)\n",
    "# -----------------------------\n",
    "\n",
    "# --------------------------\n",
    "# calculando MSE\n",
    "# --------------------------\n",
    "mse = mean_squared_error(y, yhat)\n",
    "print('MSE: %.3f' % mse)"
   ]
  },
  {
   "cell_type": "code",
   "execution_count": null,
   "id": "73a19bc3",
   "metadata": {},
   "outputs": [],
   "source": [
    "# --------------------------\n",
    "# calculando AIC\n",
    "# --------------------------\n",
    "aic = calculate_aic(len(y), mse, num_params)\n",
    "print('AIC: %.3f' % aic)"
   ]
  },
  {
   "cell_type": "code",
   "execution_count": null,
   "id": "a99d3330",
   "metadata": {},
   "outputs": [],
   "source": [
    "# --------------------------\n",
    "# calculando BIC\n",
    "# --------------------------\n",
    "bic = calculate_bic(len(y), mse, num_params)\n",
    "print('BIC: %.3f' % bic)"
   ]
  },
  {
   "cell_type": "code",
   "execution_count": null,
   "id": "751f9b11",
   "metadata": {
    "slideshow": {
     "slide_type": "subslide"
    }
   },
   "outputs": [],
   "source": [
    "# Exemplo\n",
    "# O German Credit Data é um dataset sobre análise de risco de crédito bancário\n",
    "# serve para classificar se uma pessoa tem risco alto ou baixo com base em uma \n",
    "# série de atributos.\n",
    "\n",
    "dataset = pd.read_csv('dataset/credit-g.csv')\n",
    "dataset_dummies = pd.get_dummies(dataset, columns=['checking_status', 'credit_history', 'purpose', 'savings_status', 'employment', \n",
    "                                'personal_status', 'other_parties', 'property_magnitude', 'other_payment_plans', 'housing',\n",
    "                                'job', 'own_telephone', 'foreign_worker'], drop_first=True)\n",
    "\n",
    "label_encoder = LabelEncoder()\n",
    "dataset_dummies['class'] = label_encoder.fit_transform(dataset_dummies['class'])\n",
    "X = dataset_dummies.drop(axis=1, columns=['class'])\n",
    "y = dataset_dummies[['class']]\n",
    "\n",
    "scaler = MinMaxScaler()\n",
    "X = scaler.fit_transform(X)\n",
    "y = y.values.ravel()\n",
    "\n",
    "model = MLPClassifier(hidden_layer_sizes=(25, 25), max_iter=200, random_state=42)\n",
    "model.fit(X, y)\n",
    "print(\"Acurácia: \", model.score(X, y))"
   ]
  },
  {
   "cell_type": "code",
   "execution_count": null,
   "id": "f70a001d",
   "metadata": {
    "slideshow": {
     "slide_type": "subslide"
    }
   },
   "outputs": [],
   "source": [
    "X_train, X_test, y_train, y_test = train_test_split(X, y, test_size=0.33, random_state=42)\n",
    "\n",
    "model = MLPClassifier(hidden_layer_sizes=(25, 25), max_iter=200, random_state=42)\n",
    "model.fit(X_train, y_train)\n",
    "model.score(X_test, y_test)"
   ]
  },
  {
   "cell_type": "markdown",
   "id": "aabba842",
   "metadata": {},
   "source": [
    "### Outras métricas https://scikit-learn.org/stable/modules/classes.html#module-sklearn.metrics\n",
    "\n",
    "The common metrics provided by sklearn are passable as a string into this parameter, where some typical choices would be:\n",
    "\n",
    "    ‘accuracy’\n",
    "    ‘balanced_accuracy’\n",
    "    ‘roc_auc’\n",
    "    ‘f1’\n",
    "    ‘neg_mean_absolute_error’\n",
    "    ‘neg_root_mean_squared_error’\n",
    "    ‘r2’"
   ]
  },
  {
   "cell_type": "code",
   "execution_count": null,
   "id": "775de8d3",
   "metadata": {},
   "outputs": [],
   "source": [
    "scores = cross_val_score(model, X, y, cv=10, scoring='accuracy')\n",
    "print(scores)"
   ]
  },
  {
   "cell_type": "code",
   "execution_count": null,
   "id": "49e038e0",
   "metadata": {
    "scrolled": false
   },
   "outputs": [],
   "source": [
    "y_pred = model.predict(X_test)\n",
    "\n",
    "mc = confusion_matrix(y_test, y_pred)\n",
    "\n",
    "ConfusionMatrixDisplay(confusion_matrix=mc, display_labels=['Crédito Ruim', 'Crédito Bom']).plot(cmap=plt.cm.Blues)\n",
    "plt.show()"
   ]
  },
  {
   "cell_type": "code",
   "execution_count": null,
   "id": "4dfa1ccc",
   "metadata": {},
   "outputs": [],
   "source": [
    "rf_prob = model.predict_proba(X_test)\n",
    "probs = rf_prob[:, 1]\n",
    "rfp, rvp,lim = roc_curve(y_test, probs)\n",
    "\n",
    "# gráfico da curva roc\n",
    "plt.plot(rfp, rvp, marker='.', label='Random Forest',color=\"red\")\n",
    "plt.plot([0, 1], [0, 1], color='darkblue', linestyle='--')\n",
    "\n",
    "# axis labels\n",
    "plt.xlabel('1 - Especificidade')\n",
    "plt.ylabel('Sensibilidade')\n",
    "plt.legend()\n",
    "plt.show()\n",
    "\n",
    "print('ROC AUC: %.6f' % roc_auc_score(y_test, y_pred))"
   ]
  },
  {
   "cell_type": "code",
   "execution_count": null,
   "id": "c24df481",
   "metadata": {},
   "outputs": [],
   "source": [
    "# ----------------------------\n",
    "# Dados de câncer de mama\n",
    "# ----------------------------\n",
    "bc = datasets.load_breast_cancer()\n",
    "X = bc.data\n",
    "y = bc.target\n",
    "\n",
    "# ----------------------------------------\n",
    "# Data splitting: Dados de treino e teste\n",
    "# ----------------------------------------\n",
    "\n",
    "X_train, X_test, y_train, y_test = train_test_split(X, y, test_size=0.30, random_state=42)\n",
    "\n",
    "sc = StandardScaler()\n",
    "sc.fit(X_train)\n",
    "X_train_std = sc.transform(X_train)\n",
    "X_test_std = sc.transform(X_test)"
   ]
  },
  {
   "cell_type": "code",
   "execution_count": null,
   "id": "fd4e6597",
   "metadata": {},
   "outputs": [],
   "source": [
    "model = RandomForestClassifier(random_state=42)\n",
    "model.fit(X_train, y_train)\n",
    "print('Score hold-out:', model.score(X_test, y_test))\n",
    "\n",
    "y_pred = model.predict(X_test)\n",
    "\n",
    "conf_matrix = confusion_matrix(y_true=y_test, y_pred=y_pred)\n",
    "\n",
    "ConfusionMatrixDisplay(confusion_matrix=conf_matrix, display_labels=['Maligno', 'Benigno']).plot(cmap=plt.cm.Blues)\n",
    "plt.show()"
   ]
  },
  {
   "cell_type": "code",
   "execution_count": null,
   "id": "d00fe4b9",
   "metadata": {
    "scrolled": false
   },
   "outputs": [],
   "source": [
    "rf_prob = model.predict_proba(X_test)\n",
    "probs = rf_prob[:, 1]\n",
    "rfp, rvp,lim = roc_curve(y_test, probs)\n",
    "\n",
    "# gráfico da curva roc\n",
    "plt.plot(rfp, rvp, marker='.', label='Random Forest',color=\"red\")\n",
    "plt.plot([0, 1], [0, 1], color='darkblue', linestyle='--')\n",
    "\n",
    "# axis labels\n",
    "plt.xlabel('1 - Especificidade')\n",
    "plt.ylabel('Sensibilidade')\n",
    "plt.legend()\n",
    "plt.show()\n",
    "\n",
    "print('ROC AUC: %.6f' % roc_auc_score(y_test, y_pred))"
   ]
  },
  {
   "cell_type": "code",
   "execution_count": null,
   "id": "9d32250f",
   "metadata": {},
   "outputs": [],
   "source": [
    "# validação cruzada k-fold\n",
    "\n",
    "model = RandomForestClassifier(random_state=42)\n",
    "scores = cross_val_score(model, X, y, cv=10)\n",
    "\n",
    "print('Scores 10-fold cross-validation:', scores)\n",
    "print('\\nMédia 10-fold cross-validation:', scores.mean())\n",
    "print('\\nDesvio padrão 10-fold cross-validation:', scores.std())"
   ]
  },
  {
   "cell_type": "code",
   "execution_count": null,
   "id": "9b6bfb0a",
   "metadata": {},
   "outputs": [],
   "source": [
    "def cross_validation(model, _X, _y, _cv=10):\n",
    "      '''\n",
    "      ----------------------------------------------------\n",
    "      Função para executar a validação cruzada k-fold\n",
    "      ----------------------------------------------------\n",
    "      model: Python Class, default=None\n",
    "              This is the machine learning algorithm to be used for training.\n",
    "      _X: array\n",
    "           matriz de covariáveis\n",
    "      _y: array\n",
    "           Variável dependente\n",
    "      _cv: int, default=5\n",
    "          Número de lotes na validação cruzada\n",
    "       Returns\n",
    "       -------\n",
    "       Retorna as métricas para avaliação de desempenho do modelo\n",
    "       'acurácia', 'precisão', 'recall', 'f1'\n",
    "       tanto para o conjunto de treino quanto para o conjunto de teste.\n",
    "      '''\n",
    "      metricas = ['accuracy', 'precision', 'recall', 'f1']\n",
    "      results = cross_validate(estimator=model,\n",
    "                               X=_X,\n",
    "                               y=_y,\n",
    "                               cv=_cv,\n",
    "                               scoring=metricas,\n",
    "                               return_train_score=True)\n",
    "      \n",
    "      return {\"Training Accuracy scores\": results['train_accuracy'],\n",
    "              \"Mean Training Accuracy\": results['train_accuracy'].mean()*100,\n",
    "              \n",
    "              \"Training Precision scores\": results['train_precision'],\n",
    "              \"Mean Training Precision\": results['train_precision'].mean(),\n",
    "              \n",
    "              \"Training Recall scores\": results['train_recall'],\n",
    "              \"Mean Training Recall\": results['train_recall'].mean(),\n",
    "              \n",
    "              \"Training F1 scores\": results['train_f1'],\n",
    "              \"Mean Training F1 Score\": results['train_f1'].mean(),\n",
    "              \n",
    "              \"Validation Accuracy scores\": results['test_accuracy'],\n",
    "              \"Mean Validation Accuracy\": results['test_accuracy'].mean()*100,\n",
    "              \n",
    "              \"Validation Precision scores\": results['test_precision'],\n",
    "              \"Mean Validation Precision\": results['test_precision'].mean(),\n",
    "              \n",
    "              \"Validation Recall scores\": results['test_recall'],\n",
    "              \"Mean Validation Recall\": results['test_recall'].mean(),\n",
    "              \n",
    "              \"Validation F1 scores\": results['test_f1'],\n",
    "              \"Mean Validation F1 Score\": results['test_f1'].mean()\n",
    "              }"
   ]
  },
  {
   "cell_type": "code",
   "execution_count": null,
   "id": "2e2846b6",
   "metadata": {},
   "outputs": [],
   "source": [
    "result = cross_validation(model, X, y)\n",
    "\n",
    "from pprint import pprint\n",
    "pprint(result)"
   ]
  },
  {
   "cell_type": "code",
   "execution_count": null,
   "id": "ade3d91e",
   "metadata": {},
   "outputs": [],
   "source": [
    "# Outro exemplo\n",
    "\n",
    "def KFold_vc(x_axis, y_axis):\n",
    "\n",
    "    kfold  = KFold(n_splits=10, shuffle=True) # shuffle=True, (embaralhar)\n",
    "\n",
    "    # Axis\n",
    "    x = x_axis\n",
    "    y = y_axis\n",
    "\n",
    "    linearRegression = LinearRegression()\n",
    "    elasticNet = ElasticNet()\n",
    "    ridge = Ridge()\n",
    "    lasso = Lasso()\n",
    "\n",
    "    #----------------------------------\n",
    "    # Modelos contemplados na análise\n",
    "    #----------------------------------\n",
    "    linearRegression_result = cross_val_score(linearRegression, x, y, cv = kfold, scoring=\"neg_root_mean_squared_error\")\n",
    "    elasticNet_result       = cross_val_score(elasticNet, x, y, cv = kfold, scoring=\"neg_root_mean_squared_error\")\n",
    "    ridge_result            = cross_val_score(ridge, x, y, cv = kfold, scoring=\"neg_root_mean_squared_error\")\n",
    "    lasso_result            = cross_val_score(lasso, x, y, cv = kfold, scoring=\"neg_root_mean_squared_error\")\n",
    "\n",
    "    dic_models = {\n",
    "    \"Regressão Linear\": linearRegression_result.mean(),\n",
    "    \"ElasticNet\": elasticNet_result.mean(),\n",
    "    \"Regressão Ridge\": ridge_result.mean(),\n",
    "    \"Lasso\": lasso_result.mean()\n",
    "    }\n",
    "    \n",
    "    #----------------------------------\n",
    "    # Selecionando o modelo\n",
    "    #----------------------------------\n",
    "    bestModel = max(dic_models, key=dic_models.get)\n",
    "\n",
    "    print(\"Regressão Linear: {0}\\nElastic Net: {1}\\nRegressão Ridge: {2}\\nLasso: {3}\".format(round(linearRegression_result.mean(),4), round(elasticNet_result.mean(),4), round(ridge_result.mean(),4), round(lasso_result.mean(),4)))\n",
    "    print(\"\\nModelo com melhor desempenho: {0}\".format(bestModel))\n",
    "\n",
    "\n",
    "df = pd.read_csv(\"dataset/Admission_Predict.csv\")\n",
    "df.drop('Serial No.', axis = 1, inplace = True)\n",
    "\n",
    "X = df.drop('Chance of Admit ', axis = 1)\n",
    "y = df['Chance of Admit ']\n",
    "\n",
    "KFold_vc(X, y)"
   ]
  },
  {
   "cell_type": "code",
   "execution_count": null,
   "id": "6f91853d",
   "metadata": {},
   "outputs": [],
   "source": []
  },
  {
   "cell_type": "code",
   "execution_count": null,
   "id": "4fcb25b7",
   "metadata": {},
   "outputs": [],
   "source": []
  },
  {
   "cell_type": "code",
   "execution_count": null,
   "id": "6e9a1d3b",
   "metadata": {},
   "outputs": [],
   "source": []
  }
 ],
 "metadata": {
  "kernelspec": {
   "display_name": "Python 3 (ipykernel)",
   "language": "python",
   "name": "python3"
  },
  "language_info": {
   "codemirror_mode": {
    "name": "ipython",
    "version": 3
   },
   "file_extension": ".py",
   "mimetype": "text/x-python",
   "name": "python",
   "nbconvert_exporter": "python",
   "pygments_lexer": "ipython3",
   "version": "3.10.6"
  }
 },
 "nbformat": 4,
 "nbformat_minor": 5
}
