{
 "cells": [
  {
   "cell_type": "code",
   "execution_count": 201,
   "id": "a876f030",
   "metadata": {},
   "outputs": [],
   "source": [
    "import warnings\n",
    "warnings.filterwarnings('ignore')\n",
    "\n",
    "import pandas as pd\n",
    "import numpy as np\n",
    "from math import log\n",
    "import matplotlib.pyplot as plt\n",
    "from scipy.special import rel_entr\n",
    "\n",
    "from sklearn import datasets\n",
    "from sklearn.datasets import make_regression\n",
    "\n",
    "# Pre-processamento\n",
    "from sklearn.model_selection import train_test_split\n",
    "from sklearn.preprocessing import StandardScaler\n",
    "from sklearn.preprocessing import LabelEncoder\n",
    "from sklearn.preprocessing import MinMaxScaler\n",
    "from sklearn.neural_network import MLPClassifier\n",
    "\n",
    "# Classificadores\n",
    "from sklearn.svm import SVC\n",
    "from sklearn.neighbors import KNeighborsClassifier\n",
    "from sklearn.naive_bayes import GaussianNB\n",
    "from sklearn.ensemble import RandomForestClassifier\n",
    "\n",
    "# Modelos\n",
    "from sklearn.linear_model import LinearRegression\n",
    "from sklearn.linear_model import ElasticNet\n",
    "from sklearn.linear_model import Ridge\n",
    "from sklearn.linear_model import Lasso\n",
    "from sklearn.linear_model import LogisticRegression\n",
    "\n",
    "# Metricas\n",
    "# Outras métricas https://scikit-learn.org/stable/modules/classes.html#module-sklearn.metrics\n",
    "#\n",
    "from sklearn.metrics import mean_squared_error\n",
    "from sklearn.metrics import confusion_matrix\n",
    "from sklearn.metrics import precision_score, recall_score, f1_score, accuracy_score,fbeta_score, roc_auc_score, roc_curve\n",
    "from sklearn.metrics import classification_report\n",
    "from sklearn.model_selection import cross_val_score\n",
    "from sklearn.model_selection import KFold\n",
    "from sklearn.metrics import ConfusionMatrixDisplay"
   ]
  },
  {
   "cell_type": "markdown",
   "id": "206b5823",
   "metadata": {},
   "source": [
    "# [Exemplo](https://acervolima.com/divergencia-kullback-leibler/)\n",
    "Suponha que haja duas caixas que contenham 4 tipos de bolas (verde, azul, vermelha, amarela). Uma bola é retirada da caixa aleatoriamente com as probabilidades fornecidas. Nossa tarefa é calcular a diferença de distribuições de duas caixas, isto é, divergência KL."
   ]
  },
  {
   "cell_type": "code",
   "execution_count": 7,
   "id": "ea0870bf",
   "metadata": {},
   "outputs": [
    {
     "name": "stdout",
     "output_type": "stream",
     "text": [
      "KL-divergence(box_1 || box_2): 0.057 \n",
      "KL-divergence(box_2 || box_1): 0.056 \n",
      "KL-divergence(box_1 || box_1): 0.000 \n",
      "Using Scipy rel_entr function\n",
      "KL-divergence(box_1 || box_2): 0.057 \n",
      "KL-divergence(box_2 || box_1): 0.056 \n",
      "KL-divergence(box_1 || box_1): 0.000 \n"
     ]
    }
   ],
   "source": [
    "\n",
    "\n",
    "\n",
    "# box =[P(green),P(blue),P(red),P(yellow)]\n",
    "box_1 = [0.25, 0.33, 0.23, 0.19]\n",
    "box_2 = [0.21, 0.21, 0.32, 0.26]\n",
    "  \n",
    "  \n",
    "def kl_divergence(a, b):\n",
    "    return sum(a[i] * np.log(a[i]/b[i]) for i in range(len(a)))\n",
    "    \n",
    "print('KL-divergence(box_1 || box_2): %.3f ' % kl_divergence(box_1,box_2))\n",
    "print('KL-divergence(box_2 || box_1): %.3f ' % kl_divergence(box_2,box_1))\n",
    "  \n",
    "# D( p || p) =0\n",
    "print('KL-divergence(box_1 || box_1): %.3f ' % kl_divergence(box_1,box_1))\n",
    "  \n",
    "print(\"Using Scipy rel_entr function\")\n",
    "box_1 = np.array(box_1)\n",
    "box_2 = np.array(box_2)\n",
    "  \n",
    "print('KL-divergence(box_1 || box_2): %.3f ' % sum(rel_entr(box_1,box_2)))\n",
    "print('KL-divergence(box_2 || box_1): %.3f ' % sum(rel_entr(box_2,box_1)))\n",
    "print('KL-divergence(box_1 || box_1): %.3f ' % sum(rel_entr(box_1,box_1)))\n"
   ]
  },
  {
   "cell_type": "code",
   "execution_count": 115,
   "id": "0d271170",
   "metadata": {},
   "outputs": [
    {
     "name": "stdout",
     "output_type": "stream",
     "text": [
      "Defaulting to user installation because normal site-packages is not writeable\n",
      "Collecting graphviz\n",
      "  Downloading graphviz-0.20.1-py3-none-any.whl (47 kB)\n",
      "\u001b[2K     \u001b[38;2;114;156;31m━━━━━━━━━━━━━━━━━━━━━━━━━━━━━━━━━━━━━━━\u001b[0m \u001b[32m47.0/47.0 kB\u001b[0m \u001b[31m356.8 kB/s\u001b[0m eta \u001b[36m0:00:00\u001b[0m31m1.4 MB/s\u001b[0m eta \u001b[36m0:00:01\u001b[0m\n",
      "\u001b[?25hInstalling collected packages: graphviz\n",
      "Successfully installed graphviz-0.20.1\n"
     ]
    }
   ],
   "source": [
    "import sys\n",
    "!{sys.executable} -m pip install matplotlib"
   ]
  },
  {
   "cell_type": "code",
   "execution_count": 203,
   "id": "45d90d48",
   "metadata": {},
   "outputs": [],
   "source": [
    "# ---------------------------------\n",
    "# Exemplo com dados artificiais\n",
    "# ---------------------------------\n",
    "\n",
    "# calculando o AIC\n",
    "def calculate_aic(n, mse, num_params):\n",
    " aic = n * log(mse) + 2 * num_params\n",
    " return aic\n",
    "\n",
    "# calculando o BIC\n",
    "def calculate_bic(n, mse, num_params):\n",
    " bic = n * log(mse) + num_params * log(n)\n",
    " return bic\n",
    "\n",
    "# Gerando valores para uma regressão\n",
    "X, y = make_regression(n_samples=100, n_features=2, noise=0.1)"
   ]
  },
  {
   "cell_type": "code",
   "execution_count": 204,
   "id": "c71192c9",
   "metadata": {},
   "outputs": [
    {
     "data": {
      "text/html": [
       "<style>#sk-container-id-4 {color: black;background-color: white;}#sk-container-id-4 pre{padding: 0;}#sk-container-id-4 div.sk-toggleable {background-color: white;}#sk-container-id-4 label.sk-toggleable__label {cursor: pointer;display: block;width: 100%;margin-bottom: 0;padding: 0.3em;box-sizing: border-box;text-align: center;}#sk-container-id-4 label.sk-toggleable__label-arrow:before {content: \"▸\";float: left;margin-right: 0.25em;color: #696969;}#sk-container-id-4 label.sk-toggleable__label-arrow:hover:before {color: black;}#sk-container-id-4 div.sk-estimator:hover label.sk-toggleable__label-arrow:before {color: black;}#sk-container-id-4 div.sk-toggleable__content {max-height: 0;max-width: 0;overflow: hidden;text-align: left;background-color: #f0f8ff;}#sk-container-id-4 div.sk-toggleable__content pre {margin: 0.2em;color: black;border-radius: 0.25em;background-color: #f0f8ff;}#sk-container-id-4 input.sk-toggleable__control:checked~div.sk-toggleable__content {max-height: 200px;max-width: 100%;overflow: auto;}#sk-container-id-4 input.sk-toggleable__control:checked~label.sk-toggleable__label-arrow:before {content: \"▾\";}#sk-container-id-4 div.sk-estimator input.sk-toggleable__control:checked~label.sk-toggleable__label {background-color: #d4ebff;}#sk-container-id-4 div.sk-label input.sk-toggleable__control:checked~label.sk-toggleable__label {background-color: #d4ebff;}#sk-container-id-4 input.sk-hidden--visually {border: 0;clip: rect(1px 1px 1px 1px);clip: rect(1px, 1px, 1px, 1px);height: 1px;margin: -1px;overflow: hidden;padding: 0;position: absolute;width: 1px;}#sk-container-id-4 div.sk-estimator {font-family: monospace;background-color: #f0f8ff;border: 1px dotted black;border-radius: 0.25em;box-sizing: border-box;margin-bottom: 0.5em;}#sk-container-id-4 div.sk-estimator:hover {background-color: #d4ebff;}#sk-container-id-4 div.sk-parallel-item::after {content: \"\";width: 100%;border-bottom: 1px solid gray;flex-grow: 1;}#sk-container-id-4 div.sk-label:hover label.sk-toggleable__label {background-color: #d4ebff;}#sk-container-id-4 div.sk-serial::before {content: \"\";position: absolute;border-left: 1px solid gray;box-sizing: border-box;top: 0;bottom: 0;left: 50%;z-index: 0;}#sk-container-id-4 div.sk-serial {display: flex;flex-direction: column;align-items: center;background-color: white;padding-right: 0.2em;padding-left: 0.2em;position: relative;}#sk-container-id-4 div.sk-item {position: relative;z-index: 1;}#sk-container-id-4 div.sk-parallel {display: flex;align-items: stretch;justify-content: center;background-color: white;position: relative;}#sk-container-id-4 div.sk-item::before, #sk-container-id-4 div.sk-parallel-item::before {content: \"\";position: absolute;border-left: 1px solid gray;box-sizing: border-box;top: 0;bottom: 0;left: 50%;z-index: -1;}#sk-container-id-4 div.sk-parallel-item {display: flex;flex-direction: column;z-index: 1;position: relative;background-color: white;}#sk-container-id-4 div.sk-parallel-item:first-child::after {align-self: flex-end;width: 50%;}#sk-container-id-4 div.sk-parallel-item:last-child::after {align-self: flex-start;width: 50%;}#sk-container-id-4 div.sk-parallel-item:only-child::after {width: 0;}#sk-container-id-4 div.sk-dashed-wrapped {border: 1px dashed gray;margin: 0 0.4em 0.5em 0.4em;box-sizing: border-box;padding-bottom: 0.4em;background-color: white;}#sk-container-id-4 div.sk-label label {font-family: monospace;font-weight: bold;display: inline-block;line-height: 1.2em;}#sk-container-id-4 div.sk-label-container {text-align: center;}#sk-container-id-4 div.sk-container {/* jupyter's `normalize.less` sets `[hidden] { display: none; }` but bootstrap.min.css set `[hidden] { display: none !important; }` so we also need the `!important` here to be able to override the default hidden behavior on the sphinx rendered scikit-learn.org. See: https://github.com/scikit-learn/scikit-learn/issues/21755 */display: inline-block !important;position: relative;}#sk-container-id-4 div.sk-text-repr-fallback {display: none;}</style><div id=\"sk-container-id-4\" class=\"sk-top-container\"><div class=\"sk-text-repr-fallback\"><pre>LinearRegression()</pre><b>In a Jupyter environment, please rerun this cell to show the HTML representation or trust the notebook. <br />On GitHub, the HTML representation is unable to render, please try loading this page with nbviewer.org.</b></div><div class=\"sk-container\" hidden><div class=\"sk-item\"><div class=\"sk-estimator sk-toggleable\"><input class=\"sk-toggleable__control sk-hidden--visually\" id=\"sk-estimator-id-4\" type=\"checkbox\" checked><label for=\"sk-estimator-id-4\" class=\"sk-toggleable__label sk-toggleable__label-arrow\">LinearRegression</label><div class=\"sk-toggleable__content\"><pre>LinearRegression()</pre></div></div></div></div></div>"
      ],
      "text/plain": [
       "LinearRegression()"
      ]
     },
     "execution_count": 204,
     "metadata": {},
     "output_type": "execute_result"
    }
   ],
   "source": [
    "# define and fit the model on all data\n",
    "model = LinearRegression()\n",
    "model.fit(X, y)"
   ]
  },
  {
   "cell_type": "code",
   "execution_count": 205,
   "id": "d33f4e1c",
   "metadata": {},
   "outputs": [
    {
     "name": "stdout",
     "output_type": "stream",
     "text": [
      "Número de parametros: 3\n"
     ]
    }
   ],
   "source": [
    "# numbero de parametros\n",
    "num_params = len(model.coef_) + 1\n",
    "print('Número de parametros: %d' % (num_params))"
   ]
  },
  {
   "cell_type": "code",
   "execution_count": 28,
   "id": "2d6afc49",
   "metadata": {},
   "outputs": [
    {
     "name": "stdout",
     "output_type": "stream",
     "text": [
      "MSE: 0.009\n"
     ]
    }
   ],
   "source": [
    "# ------------------------------\n",
    "# Calculando valores ajustados\n",
    "yhat = model.predict(X)\n",
    "# -----------------------------\n",
    "\n",
    "# --------------------------\n",
    "# calculando MSE\n",
    "# --------------------------\n",
    "mse = mean_squared_error(y, yhat)\n",
    "print('MSE: %.3f' % mse)"
   ]
  },
  {
   "cell_type": "code",
   "execution_count": 31,
   "id": "73a19bc3",
   "metadata": {},
   "outputs": [
    {
     "name": "stdout",
     "output_type": "stream",
     "text": [
      "AIC: -462.607\n"
     ]
    }
   ],
   "source": [
    "# --------------------------\n",
    "# calculando AIC\n",
    "# --------------------------\n",
    "aic = calculate_aic(len(y), mse, num_params)\n",
    "print('AIC: %.3f' % aic)"
   ]
  },
  {
   "cell_type": "code",
   "execution_count": 32,
   "id": "a99d3330",
   "metadata": {},
   "outputs": [
    {
     "name": "stdout",
     "output_type": "stream",
     "text": [
      "BIC: -454.791\n"
     ]
    }
   ],
   "source": [
    "# --------------------------\n",
    "# calculando BIC\n",
    "# --------------------------\n",
    "bic = calculate_bic(len(y), mse, num_params)\n",
    "print('BIC: %.3f' % bic)"
   ]
  },
  {
   "cell_type": "code",
   "execution_count": 145,
   "id": "751f9b11",
   "metadata": {
    "slideshow": {
     "slide_type": "subslide"
    }
   },
   "outputs": [
    {
     "name": "stdout",
     "output_type": "stream",
     "text": [
      "Acurácia:  0.972\n"
     ]
    }
   ],
   "source": [
    "# Exemplo\n",
    "# O German Credit Data é um dataset sobre análise de risco de crédito bancário\n",
    "# serve para classificar se uma pessoa tem risco alto ou baixo com base em uma \n",
    "# série de atributos.\n",
    "\n",
    "dataset = pd.read_csv('dataset/credit-g.csv')\n",
    "dataset_dummies = pd.get_dummies(dataset, columns=['checking_status', 'credit_history', 'purpose', 'savings_status', 'employment', \n",
    "                                'personal_status', 'other_parties', 'property_magnitude', 'other_payment_plans', 'housing',\n",
    "                                'job', 'own_telephone', 'foreign_worker'], drop_first=True)\n",
    "\n",
    "label_encoder = LabelEncoder()\n",
    "dataset_dummies['class'] = label_encoder.fit_transform(dataset_dummies['class'])\n",
    "X = dataset_dummies.drop(axis=1, columns=['class'])\n",
    "y = dataset_dummies[['class']]\n",
    "\n",
    "scaler = MinMaxScaler()\n",
    "X = scaler.fit_transform(X)\n",
    "y = y.values.ravel()\n",
    "\n",
    "model = MLPClassifier(hidden_layer_sizes=(25, 25), max_iter=200, random_state=42)\n",
    "model.fit(X, y)\n",
    "print(\"Acurácia: \", model.score(X, y))"
   ]
  },
  {
   "cell_type": "code",
   "execution_count": 137,
   "id": "f70a001d",
   "metadata": {
    "slideshow": {
     "slide_type": "subslide"
    }
   },
   "outputs": [
    {
     "data": {
      "text/plain": [
       "0.7090909090909091"
      ]
     },
     "execution_count": 137,
     "metadata": {},
     "output_type": "execute_result"
    }
   ],
   "source": [
    "X_train, X_test, y_train, y_test = train_test_split(X, y, test_size=0.33, random_state=42)\n",
    "\n",
    "model = MLPClassifier(hidden_layer_sizes=(25, 25), max_iter=200, random_state=42)\n",
    "model.fit(X_train, y_train)\n",
    "model.score(X_test, y_test)"
   ]
  },
  {
   "cell_type": "markdown",
   "id": "aabba842",
   "metadata": {},
   "source": [
    "### Outras métricas https://scikit-learn.org/stable/modules/classes.html#module-sklearn.metrics\n",
    "\n",
    "The common metrics provided by sklearn are passable as a string into this parameter, where some typical choices would be:\n",
    "\n",
    "    ‘accuracy’\n",
    "    ‘balanced_accuracy’\n",
    "    ‘roc_auc’\n",
    "    ‘f1’\n",
    "    ‘neg_mean_absolute_error’\n",
    "    ‘neg_root_mean_squared_error’\n",
    "    ‘r2’"
   ]
  },
  {
   "cell_type": "code",
   "execution_count": 138,
   "id": "775de8d3",
   "metadata": {},
   "outputs": [
    {
     "name": "stdout",
     "output_type": "stream",
     "text": [
      "[0.78 0.68 0.68 0.72 0.72 0.7  0.73 0.72 0.74 0.68]\n"
     ]
    }
   ],
   "source": [
    "scores = cross_val_score(model, X, y, cv=10, scoring='accuracy')\n",
    "print(scores)"
   ]
  },
  {
   "cell_type": "code",
   "execution_count": 139,
   "id": "49e038e0",
   "metadata": {
    "scrolled": false
   },
   "outputs": [
    {
     "data": {
      "image/png": "[encoded data removed]",
      "text/plain": [
       "<Figure size 640x480 with 2 Axes>"
      ]
     },
     "metadata": {},
     "output_type": "display_data"
    }
   ],
   "source": [
    "y_pred = model.predict(X_test)\n",
    "\n",
    "mc = confusion_matrix(y_test, y_pred)\n",
    "\n",
    "ConfusionMatrixDisplay(confusion_matrix=mc, display_labels=['Crédito Ruim', 'Crédito Bom']).plot(cmap=plt.cm.Blues)\n",
    "plt.show()"
   ]
  },
  {
   "cell_type": "code",
   "execution_count": 140,
   "id": "4dfa1ccc",
   "metadata": {},
   "outputs": [
    {
     "data": {
      "image/png": "[encoded data removed]",
      "text/plain": [
       "<Figure size 640x480 with 1 Axes>"
      ]
     },
     "metadata": {},
     "output_type": "display_data"
    },
    {
     "name": "stdout",
     "output_type": "stream",
     "text": [
      "ROC AUC: 0.646504\n"
     ]
    }
   ],
   "source": [
    "rf_prob = model.predict_proba(X_test)\n",
    "probs = rf_prob[:, 1]\n",
    "rfp, rvp,lim = roc_curve(y_test, probs)\n",
    "\n",
    "# gráfico da curva roc\n",
    "plt.plot(rfp, rvp, marker='.', label='Random Forest',color=\"red\")\n",
    "plt.plot([0, 1], [0, 1], color='darkblue', linestyle='--')\n",
    "\n",
    "# axis labels\n",
    "plt.xlabel('1 - Especificidade')\n",
    "plt.ylabel('Sensibilidade')\n",
    "plt.legend()\n",
    "plt.show()\n",
    "\n",
    "print('ROC AUC: %.6f' % roc_auc_score(y_test, y_pred))"
   ]
  },
  {
   "cell_type": "code",
   "execution_count": 141,
   "id": "c24df481",
   "metadata": {},
   "outputs": [],
   "source": [
    "# ----------------------------\n",
    "# Dados de câncer de mama\n",
    "# ----------------------------\n",
    "bc = datasets.load_breast_cancer()\n",
    "X = bc.data\n",
    "y = bc.target\n",
    "\n",
    "# ----------------------------------------\n",
    "# Data splitting: Dados de treino e teste\n",
    "# ----------------------------------------\n",
    "\n",
    "X_train, X_test, y_train, y_test = train_test_split(X, y, test_size=0.30, random_state=42)\n",
    "\n",
    "sc = StandardScaler()\n",
    "sc.fit(X_train)\n",
    "X_train_std = sc.transform(X_train)\n",
    "X_test_std = sc.transform(X_test)"
   ]
  },
  {
   "cell_type": "code",
   "execution_count": 142,
   "id": "fd4e6597",
   "metadata": {},
   "outputs": [
    {
     "name": "stdout",
     "output_type": "stream",
     "text": [
      "Score hold-out: 0.9707602339181286\n"
     ]
    },
    {
     "data": {
      "image/png": "[encoded data removed]",
      "text/plain": [
       "<Figure size 640x480 with 2 Axes>"
      ]
     },
     "metadata": {},
     "output_type": "display_data"
    }
   ],
   "source": [
    "model = RandomForestClassifier(random_state=42)\n",
    "model.fit(X_train, y_train)\n",
    "print('Score hold-out:', model.score(X_test, y_test))\n",
    "\n",
    "y_pred = model.predict(X_test)\n",
    "\n",
    "conf_matrix = confusion_matrix(y_true=y_test, y_pred=y_pred)\n",
    "\n",
    "ConfusionMatrixDisplay(confusion_matrix=conf_matrix, display_labels=['Maligno', 'Benigno']).plot(cmap=plt.cm.Blues)\n",
    "plt.show()"
   ]
  },
  {
   "cell_type": "code",
   "execution_count": 143,
   "id": "d00fe4b9",
   "metadata": {
    "scrolled": false
   },
   "outputs": [
    {
     "data": {
      "image/png": "[encoded data removed]",
      "text/plain": [
       "<Figure size 640x480 with 1 Axes>"
      ]
     },
     "metadata": {},
     "output_type": "display_data"
    },
    {
     "name": "stdout",
     "output_type": "stream",
     "text": [
      "ROC AUC: 0.963624\n"
     ]
    }
   ],
   "source": [
    "rf_prob = model.predict_proba(X_test)\n",
    "probs = rf_prob[:, 1]\n",
    "rfp, rvp,lim = roc_curve(y_test, probs)\n",
    "\n",
    "# gráfico da curva roc\n",
    "plt.plot(rfp, rvp, marker='.', label='Random Forest',color=\"red\")\n",
    "plt.plot([0, 1], [0, 1], color='darkblue', linestyle='--')\n",
    "\n",
    "# axis labels\n",
    "plt.xlabel('1 - Especificidade')\n",
    "plt.ylabel('Sensibilidade')\n",
    "plt.legend()\n",
    "plt.show()\n",
    "\n",
    "print('ROC AUC: %.6f' % roc_auc_score(y_test, y_pred))"
   ]
  },
  {
   "cell_type": "code",
   "execution_count": 109,
   "id": "9d32250f",
   "metadata": {},
   "outputs": [
    {
     "name": "stdout",
     "output_type": "stream",
     "text": [
      "Scores 10-fold cross-validation: [0.98245614 0.89473684 0.94736842 0.94736842 1.         0.98245614\n",
      " 0.94736842 0.98245614 0.94736842 1.        ]\n",
      "\n",
      "Média 10-fold cross-validation: 0.9631578947368421\n",
      "\n",
      "Desvio padrão 10-fold cross-validation: 0.030839290932012185\n"
     ]
    }
   ],
   "source": [
    "# validação cruzada k-fold\n",
    "\n",
    "model = RandomForestClassifier(random_state=42)\n",
    "scores = cross_val_score(model, X, y, cv=10)\n",
    "\n",
    "print('Scores 10-fold cross-validation:', scores)\n",
    "print('\\nMédia 10-fold cross-validation:', scores.mean())\n",
    "print('\\nDesvio padrão 10-fold cross-validation:', scores.std())"
   ]
  },
  {
   "cell_type": "code",
   "execution_count": 200,
   "id": "ade3d91e",
   "metadata": {},
   "outputs": [
    {
     "name": "stdout",
     "output_type": "stream",
     "text": [
      "Regressão Linear: -0.0638\n",
      "Elastic Net: -0.0949\n",
      "Regressão Ridge: -0.0634\n",
      "Lasso: -0.1205\n",
      "\n",
      "Modelo com melhor desempenho: Regressão Ridge\n"
     ]
    }
   ],
   "source": [
    "# Outro exemplo\n",
    "\n",
    "def KFold_vc(x_axis, y_axis):\n",
    "\n",
    "    kfold  = KFold(n_splits=10, shuffle=True) # shuffle=True, (embaralhar)\n",
    "\n",
    "    # Axis\n",
    "    x = x_axis\n",
    "    y = y_axis\n",
    "\n",
    "    linearRegression = LinearRegression()\n",
    "    elasticNet = ElasticNet()\n",
    "    ridge = Ridge()\n",
    "    lasso = Lasso()\n",
    "\n",
    "    #----------------------------------\n",
    "    # Modelos contemplados na análise\n",
    "    #----------------------------------\n",
    "    linearRegression_result = cross_val_score(linearRegression, x, y, cv = kfold, scoring=\"neg_root_mean_squared_error\")\n",
    "    elasticNet_result       = cross_val_score(elasticNet, x, y, cv = kfold, scoring=\"neg_root_mean_squared_error\")\n",
    "    ridge_result            = cross_val_score(ridge, x, y, cv = kfold, scoring=\"neg_root_mean_squared_error\")\n",
    "    lasso_result            = cross_val_score(lasso, x, y, cv = kfold, scoring=\"neg_root_mean_squared_error\")\n",
    "\n",
    "    dic_models = {\n",
    "    \"Regressão Linear\": linearRegression_result.mean(),\n",
    "    \"ElasticNet\": elasticNet_result.mean(),\n",
    "    \"Regressão Ridge\": ridge_result.mean(),\n",
    "    \"Lasso\": lasso_result.mean()\n",
    "    }\n",
    "    \n",
    "    #----------------------------------\n",
    "    # Selecionando o modelo\n",
    "    #----------------------------------\n",
    "    bestModel = max(dic_models, key=dic_models.get)\n",
    "\n",
    "    print(\"Regressão Linear: {0}\\nElastic Net: {1}\\nRegressão Ridge: {2}\\nLasso: {3}\".format(round(linearRegression_result.mean(),4), round(elasticNet_result.mean(),4), round(ridge_result.mean(),4), round(lasso_result.mean(),4)))\n",
    "    print(\"\\nModelo com melhor desempenho: {0}\".format(bestModel))\n",
    "\n",
    "\n",
    "df = pd.read_csv(\"dataset/Admission_Predict.csv\")\n",
    "df.drop('Serial No.', axis = 1, inplace = True)\n",
    "\n",
    "X = df.drop('Chance of Admit ', axis = 1)\n",
    "y = df['Chance of Admit ']\n",
    "\n",
    "KFold_vc(X, y)"
   ]
  },
  {
   "cell_type": "code",
   "execution_count": null,
   "id": "6f91853d",
   "metadata": {},
   "outputs": [],
   "source": []
  },
  {
   "cell_type": "code",
   "execution_count": null,
   "id": "4fcb25b7",
   "metadata": {},
   "outputs": [],
   "source": []
  },
  {
   "cell_type": "code",
   "execution_count": null,
   "id": "6e9a1d3b",
   "metadata": {},
   "outputs": [],
   "source": []
  }
 ],
 "metadata": {
  "kernelspec": {
   "display_name": "Python 3 (ipykernel)",
   "language": "python",
   "name": "python3"
  },
  "language_info": {
   "codemirror_mode": {
    "name": "ipython",
    "version": 3
   },
   "file_extension": ".py",
   "mimetype": "text/x-python",
   "name": "python",
   "nbconvert_exporter": "python",
   "pygments_lexer": "ipython3",
   "version": "3.10.6"
  }
 },
 "nbformat": 4,
 "nbformat_minor": 5
}
